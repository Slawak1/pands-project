{
 "cells": [
  {
   "cell_type": "markdown",
   "metadata": {},
   "source": [
    "\n",
    "## Iris Data Set - Project 2019                                  \n",
    "### Programing and Scripting \n",
    "### GMIT Galway\n",
    "Slawomir Sowa\n",
    "12/04/2019"
   ]
  },
  {
   "cell_type": "markdown",
   "metadata": {},
   "source": [
    "### Objectives\n",
    "\n",
    "Project concern Fisher’s Iris data set. \n",
    "[Project description in PDF](https://github.com/ianmcloughlin/project-pands/raw/master/project.pdf)\n",
    "\n",
    "1. Research background information about the data set and write a summary about it.\n",
    "2. Keep a list of references you used in completing the project.\n",
    "3. Download the data set and investigate it.\n",
    "4. Summarise the data set by, for example, calculating the maximum, minimum, and mean of each column of the data set.\n",
    "5. Write a summary of your investigations.\n",
    "6. Include supporting tables and graphics as you deem necessary.\n"
   ]
  },
  {
   "cell_type": "markdown",
   "metadata": {},
   "source": [
    "### Tools\n",
    "\n",
    "To analyse Iris Data Set I work with Python 3.7 and Jupyter Notebook.  \n",
    "\n",
    "<img width='400px' align='left' src='https://www.python.org/static/community_logos/python-logo-master-v3-TM.png'>\n",
    "\n",
    "<img width='150px' align='left' src='https://jupyter.org/assets/homepage/main-logo.svg'>"
   ]
  },
  {
   "cell_type": "markdown",
   "metadata": {},
   "source": [
    "#### Used Libraries and tools\n",
    "\n",
    "##### Pandas\n",
    "Pandas is a Python package providing fast, flexible, and expressive data structures designed to make working with “relational” or “labeled” data both easy and intuitive. The two primary data structures of pandas, Series (1-dimensional) and DataFrame (2-dimensional), handle the vast majority of typical use cases in finance, statistics, social science, and many areas of engineering.\n",
    "[http://pandas.pydata.org](http://pandas.pydata.org)\n",
    "\n",
    "##### NumPy\n",
    "NumPy is the fundamental package for scientific computing with Python. It contains among other things: a powerful N-dimensional array object, sophisticated (broadcasting) functions, useful linear algebra, Fourier transform, and random number capabilities, Besides its obvious scientific uses, NumPy can also be used as an efficient multi-dimensional container of generic data. Arbitrary data-types can be defined. This allows NumPy to seamlessly and speedily integrate with a wide variety of databases.\n",
    "[https://www.numpy.org/](https://www.numpy.org/)\n",
    "\n",
    "##### Matplotlib\n",
    "Matplotlib is a Python 2D plotting library which produces publication quality figures in a variety of hardcopy formats and interactive environments across platforms. Matplotlib tries to make easy things easy and hard things possible. You can generate plots, histograms, power spectra, bar charts, errorcharts, scatterplots, etc., with just a few lines of code. For examples, see the sample plots and thumbnail gallery.\n",
    "[https://matplotlib.org/index.html](https://matplotlib.org/index.html)\n",
    "\n",
    "##### Seaborn\n",
    "Seaborn is a library for making statistical graphics in Python. It is built on top of matplotlib and closely integrated with pandas data structures. [https://seaborn.pydata.org/](https://seaborn.pydata.org/)\n",
    "\n",
    "##### Jupyter Notebook\n",
    "The Jupyter Notebook is an open-source web application that allows to create and share documents that contain live code, equations, visualizations and narrative text. Uses include: data cleaning and transformation, numerical simulation, statistical modeling, data visualization, machine learning, and much more. [https://jupyter.org/index.html](https://jupyter.org/index.html)\n",
    "\n",
    "##### statsmodels\n",
    "statsmodels is a Python module that provides classes and functions for the estimation of many different statistical models, as well as for conducting statistical tests, and statistical data exploration.[http://www.statsmodels.org/dev/index.html](http://www.statsmodels.org/dev/index.html)"
   ]
  },
  {
   "cell_type": "markdown",
   "metadata": {},
   "source": [
    "### Fisher's Iris Data Set\n",
    "Sir Ronald Aylmer Fisher, byname R.A. Fisher, (born February 17, 1890, London, England—died July 29, 1962, Adelaide, Australia), British statistician and geneticist who pioneered the application of statistical procedures to the design of scientific experiments.\n",
    "\n",
    "From the Wikipedia article “Iris flower data set” (https://en.wikipedia.org/wiki/Iris_flower_data_set)\n",
    "\n",
    ">The Iris flower data set or Fisher's Iris data set is a multivariate data set introduced by the British statistician and biologist Ronald Fisher in his 1936 paper The use of multiple measurements in taxonomic problems as an example of linear discriminant analysis.[1] It is sometimes called Anderson's Iris data set because Edgar Anderson collected the data to quantify the morphologic variation of Iris flowers of three related species. Two of the three species were collected in the Gaspé Peninsula \"all from the same pasture, and picked on the same day and measured at the same time by the same person with the same apparatus\".\n",
    "\n",
    ">The data set consists of 50 samples from each of three species of Iris (Iris setosa, Iris virginica and Iris versicolor). Four features were measured from each sample: the length and the width of the sepals and petals, in centimeters. Based on the combination of these four features, Fisher developed a linear discriminant model to distinguish the species from each other."
   ]
  },
  {
   "cell_type": "markdown",
   "metadata": {},
   "source": [
    "### Getting Data\n",
    "\n",
    "Iris Data Set downloaded from [www.kaggle.com](https://www.kaggle.com/saurabh00007/iriscsv)\n"
   ]
  },
  {
   "cell_type": "markdown",
   "metadata": {},
   "source": [
    "To read data from `iris.csv` file I used `pandas` library and `read_csv` function. Variable `data` is my data frame. `data.shape` describes how many rows and columns are in the data set. "
   ]
  },
  {
   "cell_type": "code",
   "execution_count": 2,
   "metadata": {
    "scrolled": true
   },
   "outputs": [
    {
     "ename": "FileNotFoundError",
     "evalue": "[Errno 2] File b'Iris.csv' does not exist: b'Iris.csv'",
     "output_type": "error",
     "traceback": [
      "\u001b[1;31m---------------------------------------------------------------------------\u001b[0m",
      "\u001b[1;31mFileNotFoundError\u001b[0m                         Traceback (most recent call last)",
      "\u001b[1;32m<ipython-input-2-23f07dda6506>\u001b[0m in \u001b[0;36m<module>\u001b[1;34m\u001b[0m\n\u001b[0;32m      6\u001b[0m \u001b[1;32mfrom\u001b[0m \u001b[0mstatsmodels\u001b[0m\u001b[1;33m.\u001b[0m\u001b[0mgraphics\u001b[0m\u001b[1;33m.\u001b[0m\u001b[0mgofplots\u001b[0m \u001b[1;32mimport\u001b[0m \u001b[0mqqplot\u001b[0m\u001b[1;33m\u001b[0m\u001b[1;33m\u001b[0m\u001b[0m\n\u001b[0;32m      7\u001b[0m \u001b[1;33m\u001b[0m\u001b[0m\n\u001b[1;32m----> 8\u001b[1;33m \u001b[0mdata\u001b[0m \u001b[1;33m=\u001b[0m \u001b[0mpd\u001b[0m\u001b[1;33m.\u001b[0m\u001b[0mread_csv\u001b[0m\u001b[1;33m(\u001b[0m\u001b[1;34m'Iris.csv'\u001b[0m\u001b[1;33m)\u001b[0m\u001b[1;33m\u001b[0m\u001b[1;33m\u001b[0m\u001b[0m\n\u001b[0m\u001b[0;32m      9\u001b[0m \u001b[0mdata\u001b[0m\u001b[1;33m.\u001b[0m\u001b[0mshape\u001b[0m\u001b[1;33m\u001b[0m\u001b[1;33m\u001b[0m\u001b[0m\n",
      "\u001b[1;32m~\\AppData\\Local\\Continuum\\anaconda3\\lib\\site-packages\\pandas\\io\\parsers.py\u001b[0m in \u001b[0;36mparser_f\u001b[1;34m(filepath_or_buffer, sep, delimiter, header, names, index_col, usecols, squeeze, prefix, mangle_dupe_cols, dtype, engine, converters, true_values, false_values, skipinitialspace, skiprows, skipfooter, nrows, na_values, keep_default_na, na_filter, verbose, skip_blank_lines, parse_dates, infer_datetime_format, keep_date_col, date_parser, dayfirst, cache_dates, iterator, chunksize, compression, thousands, decimal, lineterminator, quotechar, quoting, doublequote, escapechar, comment, encoding, dialect, error_bad_lines, warn_bad_lines, delim_whitespace, low_memory, memory_map, float_precision)\u001b[0m\n\u001b[0;32m    683\u001b[0m         )\n\u001b[0;32m    684\u001b[0m \u001b[1;33m\u001b[0m\u001b[0m\n\u001b[1;32m--> 685\u001b[1;33m         \u001b[1;32mreturn\u001b[0m \u001b[0m_read\u001b[0m\u001b[1;33m(\u001b[0m\u001b[0mfilepath_or_buffer\u001b[0m\u001b[1;33m,\u001b[0m \u001b[0mkwds\u001b[0m\u001b[1;33m)\u001b[0m\u001b[1;33m\u001b[0m\u001b[1;33m\u001b[0m\u001b[0m\n\u001b[0m\u001b[0;32m    686\u001b[0m \u001b[1;33m\u001b[0m\u001b[0m\n\u001b[0;32m    687\u001b[0m     \u001b[0mparser_f\u001b[0m\u001b[1;33m.\u001b[0m\u001b[0m__name__\u001b[0m \u001b[1;33m=\u001b[0m \u001b[0mname\u001b[0m\u001b[1;33m\u001b[0m\u001b[1;33m\u001b[0m\u001b[0m\n",
      "\u001b[1;32m~\\AppData\\Local\\Continuum\\anaconda3\\lib\\site-packages\\pandas\\io\\parsers.py\u001b[0m in \u001b[0;36m_read\u001b[1;34m(filepath_or_buffer, kwds)\u001b[0m\n\u001b[0;32m    455\u001b[0m \u001b[1;33m\u001b[0m\u001b[0m\n\u001b[0;32m    456\u001b[0m     \u001b[1;31m# Create the parser.\u001b[0m\u001b[1;33m\u001b[0m\u001b[1;33m\u001b[0m\u001b[1;33m\u001b[0m\u001b[0m\n\u001b[1;32m--> 457\u001b[1;33m     \u001b[0mparser\u001b[0m \u001b[1;33m=\u001b[0m \u001b[0mTextFileReader\u001b[0m\u001b[1;33m(\u001b[0m\u001b[0mfp_or_buf\u001b[0m\u001b[1;33m,\u001b[0m \u001b[1;33m**\u001b[0m\u001b[0mkwds\u001b[0m\u001b[1;33m)\u001b[0m\u001b[1;33m\u001b[0m\u001b[1;33m\u001b[0m\u001b[0m\n\u001b[0m\u001b[0;32m    458\u001b[0m \u001b[1;33m\u001b[0m\u001b[0m\n\u001b[0;32m    459\u001b[0m     \u001b[1;32mif\u001b[0m \u001b[0mchunksize\u001b[0m \u001b[1;32mor\u001b[0m \u001b[0miterator\u001b[0m\u001b[1;33m:\u001b[0m\u001b[1;33m\u001b[0m\u001b[1;33m\u001b[0m\u001b[0m\n",
      "\u001b[1;32m~\\AppData\\Local\\Continuum\\anaconda3\\lib\\site-packages\\pandas\\io\\parsers.py\u001b[0m in \u001b[0;36m__init__\u001b[1;34m(self, f, engine, **kwds)\u001b[0m\n\u001b[0;32m    893\u001b[0m             \u001b[0mself\u001b[0m\u001b[1;33m.\u001b[0m\u001b[0moptions\u001b[0m\u001b[1;33m[\u001b[0m\u001b[1;34m\"has_index_names\"\u001b[0m\u001b[1;33m]\u001b[0m \u001b[1;33m=\u001b[0m \u001b[0mkwds\u001b[0m\u001b[1;33m[\u001b[0m\u001b[1;34m\"has_index_names\"\u001b[0m\u001b[1;33m]\u001b[0m\u001b[1;33m\u001b[0m\u001b[1;33m\u001b[0m\u001b[0m\n\u001b[0;32m    894\u001b[0m \u001b[1;33m\u001b[0m\u001b[0m\n\u001b[1;32m--> 895\u001b[1;33m         \u001b[0mself\u001b[0m\u001b[1;33m.\u001b[0m\u001b[0m_make_engine\u001b[0m\u001b[1;33m(\u001b[0m\u001b[0mself\u001b[0m\u001b[1;33m.\u001b[0m\u001b[0mengine\u001b[0m\u001b[1;33m)\u001b[0m\u001b[1;33m\u001b[0m\u001b[1;33m\u001b[0m\u001b[0m\n\u001b[0m\u001b[0;32m    896\u001b[0m \u001b[1;33m\u001b[0m\u001b[0m\n\u001b[0;32m    897\u001b[0m     \u001b[1;32mdef\u001b[0m \u001b[0mclose\u001b[0m\u001b[1;33m(\u001b[0m\u001b[0mself\u001b[0m\u001b[1;33m)\u001b[0m\u001b[1;33m:\u001b[0m\u001b[1;33m\u001b[0m\u001b[1;33m\u001b[0m\u001b[0m\n",
      "\u001b[1;32m~\\AppData\\Local\\Continuum\\anaconda3\\lib\\site-packages\\pandas\\io\\parsers.py\u001b[0m in \u001b[0;36m_make_engine\u001b[1;34m(self, engine)\u001b[0m\n\u001b[0;32m   1133\u001b[0m     \u001b[1;32mdef\u001b[0m \u001b[0m_make_engine\u001b[0m\u001b[1;33m(\u001b[0m\u001b[0mself\u001b[0m\u001b[1;33m,\u001b[0m \u001b[0mengine\u001b[0m\u001b[1;33m=\u001b[0m\u001b[1;34m\"c\"\u001b[0m\u001b[1;33m)\u001b[0m\u001b[1;33m:\u001b[0m\u001b[1;33m\u001b[0m\u001b[1;33m\u001b[0m\u001b[0m\n\u001b[0;32m   1134\u001b[0m         \u001b[1;32mif\u001b[0m \u001b[0mengine\u001b[0m \u001b[1;33m==\u001b[0m \u001b[1;34m\"c\"\u001b[0m\u001b[1;33m:\u001b[0m\u001b[1;33m\u001b[0m\u001b[1;33m\u001b[0m\u001b[0m\n\u001b[1;32m-> 1135\u001b[1;33m             \u001b[0mself\u001b[0m\u001b[1;33m.\u001b[0m\u001b[0m_engine\u001b[0m \u001b[1;33m=\u001b[0m \u001b[0mCParserWrapper\u001b[0m\u001b[1;33m(\u001b[0m\u001b[0mself\u001b[0m\u001b[1;33m.\u001b[0m\u001b[0mf\u001b[0m\u001b[1;33m,\u001b[0m \u001b[1;33m**\u001b[0m\u001b[0mself\u001b[0m\u001b[1;33m.\u001b[0m\u001b[0moptions\u001b[0m\u001b[1;33m)\u001b[0m\u001b[1;33m\u001b[0m\u001b[1;33m\u001b[0m\u001b[0m\n\u001b[0m\u001b[0;32m   1136\u001b[0m         \u001b[1;32melse\u001b[0m\u001b[1;33m:\u001b[0m\u001b[1;33m\u001b[0m\u001b[1;33m\u001b[0m\u001b[0m\n\u001b[0;32m   1137\u001b[0m             \u001b[1;32mif\u001b[0m \u001b[0mengine\u001b[0m \u001b[1;33m==\u001b[0m \u001b[1;34m\"python\"\u001b[0m\u001b[1;33m:\u001b[0m\u001b[1;33m\u001b[0m\u001b[1;33m\u001b[0m\u001b[0m\n",
      "\u001b[1;32m~\\AppData\\Local\\Continuum\\anaconda3\\lib\\site-packages\\pandas\\io\\parsers.py\u001b[0m in \u001b[0;36m__init__\u001b[1;34m(self, src, **kwds)\u001b[0m\n\u001b[0;32m   1915\u001b[0m         \u001b[0mkwds\u001b[0m\u001b[1;33m[\u001b[0m\u001b[1;34m\"usecols\"\u001b[0m\u001b[1;33m]\u001b[0m \u001b[1;33m=\u001b[0m \u001b[0mself\u001b[0m\u001b[1;33m.\u001b[0m\u001b[0musecols\u001b[0m\u001b[1;33m\u001b[0m\u001b[1;33m\u001b[0m\u001b[0m\n\u001b[0;32m   1916\u001b[0m \u001b[1;33m\u001b[0m\u001b[0m\n\u001b[1;32m-> 1917\u001b[1;33m         \u001b[0mself\u001b[0m\u001b[1;33m.\u001b[0m\u001b[0m_reader\u001b[0m \u001b[1;33m=\u001b[0m \u001b[0mparsers\u001b[0m\u001b[1;33m.\u001b[0m\u001b[0mTextReader\u001b[0m\u001b[1;33m(\u001b[0m\u001b[0msrc\u001b[0m\u001b[1;33m,\u001b[0m \u001b[1;33m**\u001b[0m\u001b[0mkwds\u001b[0m\u001b[1;33m)\u001b[0m\u001b[1;33m\u001b[0m\u001b[1;33m\u001b[0m\u001b[0m\n\u001b[0m\u001b[0;32m   1918\u001b[0m         \u001b[0mself\u001b[0m\u001b[1;33m.\u001b[0m\u001b[0munnamed_cols\u001b[0m \u001b[1;33m=\u001b[0m \u001b[0mself\u001b[0m\u001b[1;33m.\u001b[0m\u001b[0m_reader\u001b[0m\u001b[1;33m.\u001b[0m\u001b[0munnamed_cols\u001b[0m\u001b[1;33m\u001b[0m\u001b[1;33m\u001b[0m\u001b[0m\n\u001b[0;32m   1919\u001b[0m \u001b[1;33m\u001b[0m\u001b[0m\n",
      "\u001b[1;32mpandas\\_libs\\parsers.pyx\u001b[0m in \u001b[0;36mpandas._libs.parsers.TextReader.__cinit__\u001b[1;34m()\u001b[0m\n",
      "\u001b[1;32mpandas\\_libs\\parsers.pyx\u001b[0m in \u001b[0;36mpandas._libs.parsers.TextReader._setup_parser_source\u001b[1;34m()\u001b[0m\n",
      "\u001b[1;31mFileNotFoundError\u001b[0m: [Errno 2] File b'Iris.csv' does not exist: b'Iris.csv'"
     ]
    }
   ],
   "source": [
    "import pandas as pd\n",
    "import matplotlib.pyplot as plt\n",
    "import numpy as np\n",
    "import seaborn as sns \n",
    "from matplotlib import pyplot\n",
    "from statsmodels.graphics.gofplots import qqplot\n",
    "\n",
    "data = pd.read_csv('Iris.csv') \n",
    "data.shape"
   ]
  },
  {
   "cell_type": "markdown",
   "metadata": {},
   "source": [
    "Iris Data set has 150 rows and 6 columns."
   ]
  },
  {
   "cell_type": "markdown",
   "metadata": {},
   "source": [
    "`data.head(5)` allows me to print the first 5 rows of the data set."
   ]
  },
  {
   "cell_type": "code",
   "execution_count": null,
   "metadata": {},
   "outputs": [],
   "source": [
    "data.head(5)"
   ]
  },
  {
   "cell_type": "markdown",
   "metadata": {},
   "source": [
    "Our data set contains 6 columns: `ID`, `SepalLengthCm`, `SepalWidthCm`, `PetalLengthCm`, `PetalWidthCm`, and `Species`. "
   ]
  },
  {
   "cell_type": "markdown",
   "metadata": {},
   "source": [
    "Firstly I explain what Sepal and Petal Length is.\n",
    "<img width='400px' src='https://raw.githubusercontent.com/Slawak1/pands-project/master/files/sepalpetal.jpg'>\n",
    "\n",
    "Sepal is longer and Petal is the shorter part of the iris flower. All Sepal and Petal lengths are measured in cm.\n"
   ]
  },
  {
   "cell_type": "code",
   "execution_count": null,
   "metadata": {},
   "outputs": [],
   "source": [
    "data.tail(5)"
   ]
  },
  {
   "cell_type": "markdown",
   "metadata": {},
   "source": [
    "`data.tail(5)` function gives me last 5 rows taken from data set. As we can see there is 150 rows. `ID` column enumerate all rows. "
   ]
  },
  {
   "cell_type": "markdown",
   "metadata": {},
   "source": [
    "Interesting things were noticed in the `species` column. We started with `iris-setosa` and finished with `iris-virginica`. Let's check how many different species we have in the data set."
   ]
  },
  {
   "cell_type": "code",
   "execution_count": null,
   "metadata": {},
   "outputs": [],
   "source": [
    "data['Species'].value_counts()"
   ]
  },
  {
   "cell_type": "markdown",
   "metadata": {},
   "source": [
    "By using the `value_counts()` function on my data frame `data` I found 3 unique values in the `Species` column:`Iris-setosa`, `Iris-virginica`, and `Iris-versicolor` and each type occurs 50 times.      "
   ]
  },
  {
   "cell_type": "markdown",
   "metadata": {},
   "source": [
    "Is worth checking if any data missing in the iris data set. To do that I used `isnull()` function from the `pandas` library. The function returns a boolean value `True` if a `null` value exists and a `False` if a `not null` value is found."
   ]
  },
  {
   "cell_type": "code",
   "execution_count": null,
   "metadata": {},
   "outputs": [],
   "source": [
    "data.isnull().any()"
   ]
  },
  {
   "cell_type": "markdown",
   "metadata": {},
   "source": [
    "No missing data was found. <br>\n",
    "Let's examine the data types of each column. To do that I used the `types` object from the `pandas` library.\n"
   ]
  },
  {
   "cell_type": "code",
   "execution_count": null,
   "metadata": {},
   "outputs": [],
   "source": [
    "data.dtypes"
   ]
  },
  {
   "cell_type": "markdown",
   "metadata": {},
   "source": [
    "The returned result shows that all data types are correct. In case, we get multiple data types in a single column `dtypes` return `object` data type. For column Sepal and Petal Length and Width, we are expecting to get `int` or `float` data type. Column `Species` contains the `string` data type, in `pandas` it's called the `object` data type.  "
   ]
  },
  {
   "cell_type": "markdown",
   "metadata": {},
   "source": [
    "Let's separate species. Firstly retrieve iris-setosa species from the data set and save it in to separate data frame `dfSetosa`. `data[data['Species'] == 'Iris-setosa']` statement compare each row in column `Species` with `Iris-setosa` object. If the same, then the row is added to the `dfSetosa` data frame. I do the same for `Iris-virginica` and `Iris-versicolor`."
   ]
  },
  {
   "cell_type": "code",
   "execution_count": null,
   "metadata": {},
   "outputs": [],
   "source": [
    "dfSetosa = data[data['Species'] == 'Iris-setosa']\n",
    "dfVirginica = data[data['Species'] == 'Iris-virginica']\n",
    "dfVersicolor = data[data['Species'] == 'Iris-versicolor']"
   ]
  },
  {
   "cell_type": "markdown",
   "metadata": {},
   "source": [
    "## Iris-Setosa Analyse"
   ]
  },
  {
   "cell_type": "markdown",
   "metadata": {},
   "source": [
    "Now let's take a closer look at the Iris-setosa type.  "
   ]
  },
  {
   "cell_type": "code",
   "execution_count": null,
   "metadata": {},
   "outputs": [],
   "source": [
    "dfSetosa['Species'].value_counts()"
   ]
  },
  {
   "cell_type": "markdown",
   "metadata": {},
   "source": [
    "`dfSetosa['Species'].value_counts()` shows that the new data frame has 50 rows and contains only the Iris-Setosa type. \n",
    "Now I calculate the max, min, mean, and standard deviation value for Sepal and Petal length and width by using `describe()` function, which returns the table.\n"
   ]
  },
  {
   "cell_type": "code",
   "execution_count": null,
   "metadata": {},
   "outputs": [],
   "source": [
    "dfSetosa = dfSetosa.drop(['Id'], axis = 1)\n",
    "dfSetosa.describe()"
   ]
  },
  {
   "cell_type": "markdown",
   "metadata": {},
   "source": [
    "To get a better view I decided to drop the `Id` column by using the `DataFrame.drop()` function.<br>\n",
    "I got values formatted in Table and as we can see from `mean` Sepal is longer and wider than Petal for the Iris Setosa Flower type.    \n"
   ]
  },
  {
   "cell_type": "markdown",
   "metadata": {},
   "source": [
    "To show the relationship between the `Sepal length` and `Sepal width` of the Iris Setosa type I used a scatter plot. Trendline helps to make the relationship more clear. Scatter plots are sometimes called correlation plots because they show how two variables are correlated. The plot shows a low positive correlation between Sepal length and Sepal width.\n"
   ]
  },
  {
   "cell_type": "code",
   "execution_count": null,
   "metadata": {},
   "outputs": [],
   "source": [
    "# Scatter plot od Sepal Length and Sepal Width\n",
    "# https://chartio.com/learn/dashboards-and-charts/what-is-a-scatter-plot/\n",
    "# https://www.numpy.org/devdocs/reference/generated/numpy.polynomial.polynomial.polyfit.html\n",
    "# https://stackoverflow.com/a/26447505\n",
    "\n",
    "from numpy.polynomial import Polynomial\n",
    "\n",
    "dfSetosa.plot(\n",
    "    kind='scatter', # Plot Type: linear, histogram, pie, scatter etc. \n",
    "    x='SepalLengthCm', # data on x axis \n",
    "    y='SepalWidthCm',  # data on y axis \n",
    "    color='DarkBlue',  # color\n",
    "    label='Iris Setosa Sepal', # label\n",
    "    figsize=(10,6)) # chart size\n",
    "\n",
    "# Set legend\n",
    "plt.legend(\n",
    "    loc='upper center', # place of legend\n",
    "    shadow=True, # drop shadow\n",
    "    frameon = True) # frame around legend \n",
    "\n",
    "#Trend line plot - to calculate trendline i used polyfit and poly1d function from NumPy library. \n",
    "z = np.polyfit(dfSetosa['SepalLengthCm'], dfSetosa['SepalWidthCm'], 1)\n",
    "p = np.poly1d(z)\n",
    "\n",
    "plt.plot(dfSetosa['SepalLengthCm'],p(dfSetosa['SepalLengthCm']), \"r--\",)"
   ]
  },
  {
   "cell_type": "markdown",
   "metadata": {},
   "source": [
    "Calculate the same for Petal Length and Petal Width for Iris Setosa type."
   ]
  },
  {
   "cell_type": "code",
   "execution_count": null,
   "metadata": {},
   "outputs": [],
   "source": [
    "dfSetosa.plot(\n",
    "    kind='scatter', \n",
    "    x='PetalLengthCm', \n",
    "    y='PetalWidthCm',  \n",
    "    color='red',  \n",
    "    label='Iris Setosa Petal',\n",
    "    figsize=(10,6))\n",
    "\n",
    "plt.legend(\n",
    "    loc='upper center',  \n",
    "    shadow=True, \n",
    "    frameon = True)\n",
    "\n",
    "z = np.polyfit(dfSetosa['PetalLengthCm'], dfSetosa['PetalWidthCm'], 1)\n",
    "p = np.poly1d(z)\n",
    "plt.plot(dfSetosa['PetalLengthCm'],p(dfSetosa['PetalLengthCm']), \"b--\",)"
   ]
  },
  {
   "cell_type": "markdown",
   "metadata": {},
   "source": [
    "Scatter plot with petal Length and Petal width shows no corelation. "
   ]
  },
  {
   "cell_type": "markdown",
   "metadata": {},
   "source": [
    "### Frequency Charts \n",
    "Frequency charts show the number of instances data values appear within a dataset. To plot I used `Matplotlib` and `Pandas` library."
   ]
  },
  {
   "cell_type": "code",
   "execution_count": null,
   "metadata": {},
   "outputs": [],
   "source": [
    "# https://pandas.pydata.org/pandas-docs/stable/user_guide/visualization.html\n",
    "# https://stackoverflow.com/questions/45080698/make-frequency-histogram-from-list-with-tuple-elements/45080859#45080859\n",
    "# https://medium.com/python-pandemonium/data-visualization-in-python-histogram-in-matplotlib-dce38f49f89c\n",
    "\n",
    "\n",
    "plt.figure()\n",
    "\n",
    "# Create a figure and a set of subplots with 2 columns and 2 rows.\n",
    "fig, ax = plt.subplots(2,2, figsize=(17, 14))\n",
    "\n",
    "# ax - tell us where is plot, bins to find out, rwidth - bin width, \n",
    "dfSetosa['SepalLengthCm'].plot(\n",
    "    kind='hist', # what kind of plot: linear, histogram, pie, scatter etc. \n",
    "    bins=np.arange(4.25,5.9,0.1), # set bin edges, \n",
    "    rwidth=0.9, # width of bin\n",
    "    ax=ax[0][0], # shows where to plot   \n",
    "    xticks=pd.unique(dfSetosa['SepalLengthCm']), # set ticks on x axis, as unique values from SepalLengthCm column \n",
    "    color='lightblue', # color of histogram\n",
    "    grid=True, # set grid as True\n",
    "    yticks=np.arange(0,10,1), # set ticks on y axis in range from 0 to 10 with step 1\n",
    "    fontsize=12) # set font size for ticks on x and y axis\n",
    "\n",
    "dfSetosa['SepalWidthCm'].plot(\n",
    "    kind='hist', \n",
    "    bins=np.arange(2.25,4.5,0.1), \n",
    "    rwidth=0.9, \n",
    "    ax=ax[0][1],\n",
    "    xticks=pd.unique(dfSetosa['SepalWidthCm']),\n",
    "    color='orange',\n",
    "    grid=True,\n",
    "    yticks=np.arange(0,10,1),\n",
    "    fontsize=12)\n",
    "\n",
    "\n",
    "dfSetosa['PetalLengthCm'].plot(\n",
    "    kind='hist', \n",
    "    bins=np.arange(0.95,2.0,0.1), \n",
    "    rwidth=0.9, \n",
    "    ax=ax[1][0], \n",
    "    xticks=pd.unique(dfSetosa['PetalLengthCm']),\n",
    "    color='lightgreen',\n",
    "    grid=True,\n",
    "    yticks=np.arange(0,15,1),\n",
    "    fontsize=12)\n",
    "\n",
    "dfSetosa['PetalWidthCm'].plot(\n",
    "    kind='hist', \n",
    "    bins=np.arange(-0.25,0.7,0.1), \n",
    "    rwidth=0.9, \n",
    "    ax=ax[1][1],\n",
    "    xticks=pd.unique(dfSetosa['PetalWidthCm']), \n",
    "    color='red',\n",
    "    grid=(True),\n",
    "    yticks=np.arange(0,30,1),\n",
    "    fontsize=12)\n",
    "\n",
    "# set title and axis labels\n",
    "ax[0][0].set(title='Frequency Chart - Iris Setosa', xlabel = 'Sepal Length in cm' )\n",
    "ax[0][1].set(title='Frequency Chart - Iris Setosa', xlabel = 'Sepal Width in cm')\n",
    "ax[1][0].set(title='Frequency Chart - Iris Setosa', xlabel = 'Petal Length in cm')\n",
    "ax[1][1].set(title='Frequency Chart - Iris Setosa', xlabel = 'Petal Width in cm' )\n",
    "\n",
    "# set grid color, line style and line width\n",
    "ax[0][0].grid(color='lightgrey', linestyle='--', linewidth=0.6)\n",
    "ax[0][1].grid(color='lightgrey', linestyle='--', linewidth=0.6)\n",
    "ax[1][0].grid(color='lightgrey', linestyle='--', linewidth=0.6)\n",
    "ax[1][1].grid(color='lightgrey', linestyle='--', linewidth=0.6)\n",
    "\n",
    "plt.tight_layout()\n",
    "plt.show()"
   ]
  },
  {
   "cell_type": "markdown",
   "metadata": {},
   "source": [
    "In Iris Setosa Sepal width we have a value `2.3` which is significantly lower than other data points. Outliers represent unusual cases. Sometimes they represent data entry errors - Gross Errors, or perhaps data that does not belong with the other data of interest.\n"
   ]
  },
  {
   "cell_type": "markdown",
   "metadata": {},
   "source": [
    "### Cross Tables \n",
    "Let's check what is the percentage distribution for individual points in the Iris Setosa data frame, <br>\n",
    "To calculate the percentage I use the `crosstab()` function from the `Pandas` library.\n"
   ]
  },
  {
   "cell_type": "code",
   "execution_count": null,
   "metadata": {},
   "outputs": [],
   "source": [
    "# http://hamelg.blogspot.com/2015/11/python-for-data-analysis-part-19_17.html\n",
    "\n",
    "crossTable = pd.crosstab(index=dfSetosa['SepalLengthCm'], columns = 'count', )\n",
    "\n",
    "# dataframe.count() function is used to count the umber of data points in data frame. \n",
    "# we assign result of dfSetosa.count() to variables.\n",
    "\n",
    "sepalLengthNo, sepalWidthNo, petalLengthNo, petalWidthNo, speciesNo = dfSetosa.count()\n",
    "\n",
    "#For better view I transpose table \n",
    "crossTable = crossTable.T\n",
    "\n",
    "# statement below add new row 'Percent' with calculated field \n",
    "crossTable.loc['Percent [%]'] = (crossTable.loc['count']/sepalLengthNo)*100\n",
    "\n",
    "crossTable"
   ]
  },
  {
   "cell_type": "markdown",
   "metadata": {},
   "source": [
    "Cross Table shows that `32%` of overall Iris Setosa Sepal Length data points fall to `5.1` and `5.2` length."
   ]
  },
  {
   "cell_type": "code",
   "execution_count": null,
   "metadata": {},
   "outputs": [],
   "source": [
    "# Let's do the same for the remaining data\n",
    "crossTable = pd.crosstab(index=dfSetosa['SepalWidthCm'], columns = 'count', )\n",
    "crossTable = crossTable.T\n",
    "crossTable.loc['Percent [%]'] = (crossTable.loc['count']/sepalWidthNo)\n",
    "crossTable"
   ]
  },
  {
   "cell_type": "markdown",
   "metadata": {},
   "source": [
    "`18%` of overall Iris Setosa Sepal Width values fall to `3.4` cm width"
   ]
  },
  {
   "cell_type": "code",
   "execution_count": null,
   "metadata": {},
   "outputs": [],
   "source": [
    "crossTable = pd.crosstab(index=dfSetosa['PetalLengthCm'], columns = 'count', )\n",
    "crossTable = crossTable.T\n",
    "crossTable.loc['Percent [%]'] = (crossTable.loc['count']/petalLengthNo)\n",
    "crossTable"
   ]
  },
  {
   "cell_type": "markdown",
   "metadata": {},
   "source": [
    "`52%` of overall Iris Setosa Petal Length fall to `1.4` and `1.5` cm length."
   ]
  },
  {
   "cell_type": "code",
   "execution_count": null,
   "metadata": {},
   "outputs": [],
   "source": [
    "crossTable = pd.crosstab(index=dfSetosa['PetalWidthCm'], columns = 'count', )\n",
    "crossTable = crossTable.T\n",
    "crossTable.loc['Percent [%]'] = (crossTable.loc['count']/petalWidthNo)\n",
    "crossTable"
   ]
  },
  {
   "cell_type": "markdown",
   "metadata": {},
   "source": [
    "`56%` of overall Iris Setosa Petal Width data points fall to `0.2` cm width."
   ]
  },
  {
   "cell_type": "markdown",
   "metadata": {},
   "source": [
    "### Standard Deviation\n",
    "\n",
    "A data set of repetitive measurements is often expressed as a single representative number called the mean or average and it is a sum of individual measurements ($x_i$) divided by the number of measurements ($N$)\n",
    "\n",
    "$$ \\bar x  = \\frac {\\sum x_i}{N}  $$\n",
    "\n",
    "Deviation from the mean is the difference between the individual experimental value and the mean value. Calculated as:\n",
    "\n",
    "$$ (x_i - \\bar x) $$\n",
    "\n",
    "    \n",
    "Estimated standard deviation ($s$) from a sample of the population is a number used to tell how measurements for a group are spread out from the average or expected value. A low standard deviation means that most of the numbers are very close to the average. A high standard deviation means that the numbers are spread out.\n",
    "\n",
    "\n",
    "$$ s = \\sqrt { \\frac {\\sum (x_i - \\bar x)^2}{N-1} } $$\n",
    "\n",
    "Because we take a sample of the population (selection taken from a bigger population of iris flowers), the number of degrees of freedom (N−1) is the total number of measurements minus one, called \"Bessel's correction\".\n",
    "\n",
    "Let's calculate the mean and standard deviation for Iris Setosa's sepal length and width. To do that I used `numpy.mean()` and `numpy.std()` functions.\n"
   ]
  },
  {
   "cell_type": "code",
   "execution_count": null,
   "metadata": {},
   "outputs": [],
   "source": [
    "print('Iris Setosa Sepal Length mean =', np.round(dfSetosa['SepalLengthCm'].mean(),decimals=2)) \n",
    "print('Iris Setosa Sepal Length Standard Deviations =',np.round(dfSetosa['SepalLengthCm'].std(),decimals=2))\n",
    "print()\n",
    "print('Iris Setosa Sepal Width mean =',np.round(dfSetosa['SepalWidthCm'].mean(),decimals=1))\n",
    "print('Iris Setosa Sepal Width Standard Deviations =',np.round(dfSetosa['SepalWidthCm'].std(),decimals=2))\n"
   ]
  },
  {
   "cell_type": "markdown",
   "metadata": {},
   "source": [
    "Average size of Iris Setosa Sepal\n",
    "\n",
    "sepal length  $$5.01 \\pm 0.35 cm $$\n",
    "sepal width  $$3.40 \\pm 0.38 cm $$\n",
    "\n",
    "\n",
    "\n",
    "\n"
   ]
  },
  {
   "cell_type": "code",
   "execution_count": null,
   "metadata": {},
   "outputs": [],
   "source": [
    "print('Iris Setosa Petal Length mean =', np.round(dfSetosa['PetalLengthCm'].mean(),decimals=2)) \n",
    "print('Iris Setosa Petal Length Standard Deviations =',np.round(dfSetosa['PetalLengthCm'].std(),decimals=2))\n",
    "print()\n",
    "print('Iris Setosa Petal Width mean =',np.round(dfSetosa['PetalWidthCm'].mean(),decimals=1))\n",
    "print('Iris Setosa Petal Width Standard Deviations =',np.round(dfSetosa['PetalWidthCm'].std(),decimals=2))"
   ]
  },
  {
   "cell_type": "markdown",
   "metadata": {},
   "source": [
    "Avaerage size of Iris Setosa Petal\n",
    "\n",
    "Petal length  $$ 1.46 \\pm 0.17 cm $$\n",
    "Petal width  $$ 0.20 \\pm 0.11 cm$$"
   ]
  },
  {
   "cell_type": "markdown",
   "metadata": {},
   "source": [
    "### Normal Distribution\n",
    "The normal distribution is the most important and widely used in statistics. It is also called the \"Gaussian curve\" after the mathematician Karl Friedrich Gauss.\n",
    "\n",
    "![img](https://www.mathsisfun.com/data/images/normal-distrubution-3sds.svg)\n",
    "\n",
    "As we can see in Normal Distribution `68%` of data values are within 1 standard deviation of the mean, `95%` of data falls between -2 and 2 standard deviations, and `99%` of data values of data fall between `-3` and `3` standard deviations.\n",
    "The probability density of the normal distribution can calculate:\n",
    "\n",
    "\n",
    "$$f(x \\mid,s^{2}) = \\frac{1}{\\sqrt{2\\pi s^{2}}}e^{-\\frac {({x}-{\\bar x})^2}{2s^2}} $$ \n",
    "\n",
    "Where $s$ - standard deviation, $\\bar x$ - mean and $e$ - base of the natural logarithm (constant = 2.71828) .\n",
    "\n",
    "**The question arises - is the distribution of data in the Iris Setosa data frame normally distributed and how to check it?**\n",
    "If we take a look at the Histograms of Iris Setosa Sepal and Petal values we can see a Gaussian-like shape of the data.\n",
    "A popular plot for checking the distribution of a data sample is the `quantile-quantile` plot.\n",
    "This plot generates a sample of the idealized distribution that we are comparing with Iris Setosa's data. The idealized samples are divided into groups called quantiles.<br>\n",
    "\n",
    "The resulting points are plotted as a scatter plot with the idealized value on the x-axis and the `SepalLengthCm` on the y-axis.<br>\n",
    "A perfect match for the distribution will be shown by a line of dots on a 45-degree angle from the bottom left of the plot to the top right. A line is drawn on the plot to help make this expectation clear. Deviations by the dots from the line show a deviation from the expected distribution.\n",
    "To calculate and plot quantile-quantile charts I used the `Q-Q plot()` function from the `statsmodel` library.\n"
   ]
  },
  {
   "cell_type": "code",
   "execution_count": null,
   "metadata": {},
   "outputs": [],
   "source": [
    "# https://machinelearningmastery.com/a-gentle-introduction-to-normality-tests-in-python/\n",
    "\n",
    "plt.figure()\n",
    "\n",
    "# Create a figure and a set of subplots with 2 columns and 2 rows.\n",
    "fig, ax = plt.subplots(2,2, figsize=(17, 14))\n",
    "\n",
    "# plot qq charts with data\n",
    "qqplot(dfSetosa['SepalLengthCm'],ax = ax[0][0], line='s', )\n",
    "qqplot(dfSetosa['SepalWidthCm'],ax = ax[0][1], line='s', )\n",
    "qqplot(dfSetosa['PetalLengthCm'],ax = ax[1][0], line='s', )\n",
    "qqplot(dfSetosa['PetalWidthCm'],ax = ax[1][1], line='s', )\n",
    "\n",
    "# set title and axis labels\n",
    "ax[0][0].set(title='Q-Q Test - Iris Setosa - Sepal Length', ylabel = 'Sepal Length in cm' )\n",
    "ax[0][1].set(title='Q-Q Test - Iris Setosa - Sepal Width', ylabel = 'Sepal Width in cm')\n",
    "ax[1][0].set(title='Q-Q Test - Iris Setosa - Petal Length',ylabel = 'Petal Length in cm')\n",
    "ax[1][1].set(title='Q-Q Test - Iris Setosa - Petal Width',ylabel = 'Petal Width in cm')\n",
    "\n",
    "pyplot.show()"
   ]
  },
  {
   "cell_type": "markdown",
   "metadata": {},
   "source": [
    "The graph does not explicitly determine whether the distribution is normal or not. We can assume that Sepal Length and Sepal Width distribution is a Gaussian Distribution. But for Petal Length and Petal Width, we need more tests."
   ]
  },
  {
   "cell_type": "markdown",
   "metadata": {},
   "source": [
    "### Shapiro-Wilk Test\n",
    "\n",
    "Sample 50 data points are too small to unambiguously determine if the distribution is in the form of a gaussian curve. However, for the needs of the project, we will do the Shapiro-Wilk test. In practice, the Shapiro-Wilk test is believed to be a reliable test of normality.\n",
    "The `shapiro()` SciPy function will calculate the Shapiro-Wilk on our dataset.\n",
    "\n",
    "\n"
   ]
  },
  {
   "cell_type": "code",
   "execution_count": null,
   "metadata": {},
   "outputs": [],
   "source": [
    "# Shapiro-Wilk Test\n",
    "# https://machinelearningmastery.com/a-gentle-introduction-to-normality-tests-in-python/\n",
    "\n",
    "# import shapiro() function from scipy.stats\n",
    "from scipy.stats import shapiro # \n",
    "\n",
    "data = dfSetosa['SepalLengthCm']\n",
    "\n",
    "# we use shapiro() on our data and assign the result to variables stat and p\n",
    "stat, p = shapiro(data)\n",
    "\n",
    "print('Statistics=%.3f, p=%.3f' % (stat, p))\n",
    "\n",
    "# if calculated p is bigger than alpha, our data are normally distributed \n",
    "\n",
    "alpha = 0.05\n",
    "if p > alpha:\n",
    "    print('Sepal Length data looks Gaussian (fail to reject H0)')\n",
    "else:\n",
    "    print('Sepal Length data does not look Gaussian (reject H0)')"
   ]
  },
  {
   "cell_type": "code",
   "execution_count": null,
   "metadata": {},
   "outputs": [],
   "source": [
    "# Shapiro-Wilk Test\n",
    "\n",
    "data = dfSetosa['SepalWidthCm']\n",
    "stat, p = shapiro(data)\n",
    "print('Statistics=%.3f, p=%.3f' % (stat, p))\n",
    "alpha = 0.05\n",
    "if p > alpha:\n",
    "    print('Sepal Width data looks Gaussian (fail to reject H0)')\n",
    "else:\n",
    "    print('Sepal Width data does not look Gaussian (reject H0)')"
   ]
  },
  {
   "cell_type": "code",
   "execution_count": null,
   "metadata": {},
   "outputs": [],
   "source": [
    "# Shapiro-Wilk Test\n",
    "\n",
    "data = dfSetosa['PetalLengthCm']\n",
    "stat, p = shapiro(data)\n",
    "print('Statistics=%.3f, p=%.3f' % (stat, p))\n",
    "alpha = 0.05\n",
    "if p > alpha:\n",
    "    print('Petal Length data looks Gaussian (fail to reject H0)')\n",
    "else:\n",
    "    print('Petal Length data does not look Gaussian (reject H0)')"
   ]
  },
  {
   "cell_type": "code",
   "execution_count": null,
   "metadata": {},
   "outputs": [],
   "source": [
    "# Shapiro-Wilk Test\n",
    "\n",
    "data = dfSetosa['PetalWidthCm']\n",
    "stat, p = shapiro(data)\n",
    "print('Statistics=%.3f, p=%.3f' % (stat, p))\n",
    "alpha = 0.05\n",
    "if p > alpha:\n",
    "    print('Petal Width data looks Gaussian (fail to reject H0)')\n",
    "else:\n",
    "    print('Petal Width data does not look Gaussian (reject H0)')"
   ]
  },
  {
   "cell_type": "markdown",
   "metadata": {},
   "source": [
    "Calculations show that `Sepal Length` and `Sepal Width` can be treated as normal distribution data. \n",
    "\n",
    "On the other hand, `Petal Length` is only slightly above alpha and the result is not clear, and `Petal Width` is not a data normally distributed\n"
   ]
  },
  {
   "cell_type": "markdown",
   "metadata": {},
   "source": [
    "### Normal Distribution Plot\n",
    "Let's draw graphs of normal distribution for previously calculated averages and standard deviations."
   ]
  },
  {
   "cell_type": "code",
   "execution_count": null,
   "metadata": {
    "scrolled": false
   },
   "outputs": [],
   "source": [
    "# https://www.tutorialspoint.com/python/python_normal_distribution.htm\n",
    "\n",
    "plt.figure()\n",
    "\n",
    "# Create a figure and a set of subplots with 2 columns and 2 rows.\n",
    "fig, ax = plt.subplots(2,2, figsize=(17, 14))\n",
    "\n",
    "# mean and standard deviation assigned to variables mu and s\n",
    "mu, s = 5.01, 0.35\n",
    "\n",
    "# our data\n",
    "data = dfSetosa['SepalLengthCm']\n",
    "\n",
    "# we plot a histogram from which we read bins and assign them to variable\n",
    "count, bins, ignored = ax[0][0].hist(data, 30, density=True)\n",
    "\n",
    "# Plot the distribution curve from equation\n",
    "ax[0][0].plot(bins, 1/(s * np.sqrt(2 * np.pi)) *np.exp( - (bins - mu)**2 / (2 * s**2) ), linewidth=3, color='y')\n",
    "\n",
    "# we repeat steps for remaining data\n",
    "mu, sigma = 3.40, 0.38\n",
    "s = dfSetosa['SepalWidthCm']\n",
    "count, bins, ignored = ax[0][1].hist(s, 30, density=True)\n",
    "ax[0][1].plot(bins, 1/(sigma * np.sqrt(2 * np.pi)) *np.exp( - (bins - mu)**2 / (2 * sigma**2) ), linewidth=3, color='y')\n",
    "\n",
    "mu, sigma = 1.46, 0.17\n",
    "s = dfSetosa['PetalLengthCm']\n",
    "count, bins, ignored = ax[1][0].hist(s, 30, density=True)\n",
    "ax[1][0].plot(bins, 1/(sigma * np.sqrt(2 * np.pi)) *np.exp( - (bins - mu)**2 / (2 * sigma**2) ), linewidth=3, color='y')\n",
    "\n",
    "mu, sigma = 0.20, 0.11\n",
    "s = dfSetosa['PetalWidthCm']\n",
    "count, bins, ignored = ax[1][1].hist(s, 30, density=True)\n",
    "ax[1][1].plot(bins, 1/(sigma * np.sqrt(2 * np.pi)) *np.exp( - (bins - mu)**2 / (2 * sigma**2) ), linewidth=3, color='y')\n",
    "\n",
    "# set title x and y labels \n",
    "ax[0][0].set(\n",
    "        title='Histogram with Normal Distribution - Iris Setosa - Sepal Length', \n",
    "        xlabel = 'Sepal Width in cm', \n",
    "        ylabel = 'Density of probability')\n",
    "\n",
    "ax[0][1].set(\n",
    "        title='Histogram with Normal Distribution - Iris Setosa - Sepal Width', \n",
    "        xlabel = 'Sepal Width in cm', \n",
    "        ylabel = 'Density of probability')\n",
    "\n",
    "ax[1][0].set(\n",
    "    title='Histogram with Normal Distribution - Iris Setosa - Petal Length',\n",
    "    xlabel = 'Petal Length in cm', \n",
    "    ylabel = 'Density of probability')\n",
    "\n",
    "ax[1][1].set(\n",
    "    title='Histogram with Normal Distribution - Iris Setosa - Petal Width',\n",
    "    xlabel = 'Petal Width in cm', \n",
    "    ylabel = 'Density of probability')\n",
    "\n",
    "plt.show()"
   ]
  },
  {
   "cell_type": "code",
   "execution_count": null,
   "metadata": {},
   "outputs": [],
   "source": [
    "# https://stackoverflow.com/a/10138381/11107506\n",
    "\n",
    "from scipy.stats import norm\n",
    "\n",
    "plt.figure()\n",
    "\n",
    "# Create a figure and a set of subplots with 2 columns and 2 rows.\n",
    "fig, ax = plt.subplots(1,1, figsize=(10, 6))\n",
    "x_axis = np.arange(-1, 7, 0.001)\n",
    "ax.plot(x_axis, norm.pdf(x_axis,5.01,0.34), label = 'Sepal Length' )\n",
    "ax.plot(x_axis, norm.pdf(x_axis,3.40,0.38), label = 'Sepal Width' )\n",
    "ax.plot(x_axis, norm.pdf(x_axis,1.46,0.17), label = 'Petal Length' )\n",
    "ax.plot(x_axis, norm.pdf(x_axis,0.20,0.11), label = 'Petal Width' )\n",
    "\n",
    "plt.legend(\n",
    "    loc='upper right',  \n",
    "    shadow=True, \n",
    "    frameon = True)\n",
    "ax.set(title='Normal Distribution - Iris Setosa', xlabel = 'Width in cm', ylabel = 'Density of probability')\n",
    "plt.show()"
   ]
  },
  {
   "cell_type": "markdown",
   "metadata": {},
   "source": [
    "Summary plot of Normal Distribution for all 4 values.  "
   ]
  },
  {
   "cell_type": "markdown",
   "metadata": {},
   "source": [
    "#### Boxplot\n",
    "Boxplot gives a summary of the Sepal and Petal values in the data set. The line that divides the box into 2 parts represents the `median` of the data. The end of the box shows the `upper quartiles` and `lower quartiles`. The extreme lines show the `highest value` and `lowest value` excluding outliers."
   ]
  },
  {
   "cell_type": "code",
   "execution_count": null,
   "metadata": {
    "scrolled": false
   },
   "outputs": [],
   "source": [
    "\n",
    "plt.figure(figsize=(7,9))\n",
    "sns.boxplot(data=dfSetosa,)\n"
   ]
  },
  {
   "cell_type": "markdown",
   "metadata": {},
   "source": [
    " ## Iris-Virginica Analyse"
   ]
  },
  {
   "cell_type": "markdown",
   "metadata": {},
   "source": [
    "Now I will do the same steps for Iris Virginica, the theory has been explained above, so I will skip it. Our data frame for Iris Virginica is `dfVirginica`."
   ]
  },
  {
   "cell_type": "code",
   "execution_count": null,
   "metadata": {},
   "outputs": [],
   "source": [
    "dfVirginica['Species'].value_counts()"
   ]
  },
  {
   "cell_type": "code",
   "execution_count": null,
   "metadata": {},
   "outputs": [],
   "source": [
    "dfVirginica = dfVirginica.drop(['Id'], axis = 1)\n",
    "dfVirginica.describe()"
   ]
  },
  {
   "cell_type": "code",
   "execution_count": null,
   "metadata": {},
   "outputs": [],
   "source": [
    "from numpy.polynomial import Polynomial\n",
    "\n",
    "dfVirginica.plot(\n",
    "    kind='scatter', # Plot Type: linear, histogram, pie, scatter etc. \n",
    "    x='SepalLengthCm', # data on x axis \n",
    "    y='SepalWidthCm',  # data on y axis \n",
    "    color='DarkBlue',  # color\n",
    "    label='Iris Virginica Sepal', # label\n",
    "    figsize=(10,6)) # chart size\n",
    "\n",
    "# Set legend\n",
    "plt.legend(\n",
    "    loc='upper center', # place of legend\n",
    "    shadow=True, # drop shadow\n",
    "    frameon = True) # frame around legend \n",
    "\n",
    "#Trend line plot - to calculate trendline i used polyfit and poly1d function from NumPy library. \n",
    "z = np.polyfit(dfVirginica['SepalLengthCm'], dfVirginica['SepalWidthCm'], 1)\n",
    "p = np.poly1d(z)\n",
    "\n",
    "plt.plot(dfVirginica['SepalLengthCm'],p(dfVirginica['SepalLengthCm']), \"r--\",)"
   ]
  },
  {
   "cell_type": "markdown",
   "metadata": {},
   "source": [
    "Scatter plot with Sepal Length and Sepal width shows no correlation."
   ]
  },
  {
   "cell_type": "code",
   "execution_count": null,
   "metadata": {},
   "outputs": [],
   "source": [
    "dfVirginica.plot(\n",
    "    kind='scatter', \n",
    "    x='PetalLengthCm', \n",
    "    y='PetalWidthCm',  \n",
    "    color='red',  \n",
    "    label='Iris Virginica Petal',\n",
    "    figsize=(10,6))\n",
    "\n",
    "plt.legend(\n",
    "    loc='upper center',  \n",
    "    shadow=True, \n",
    "    frameon = True)\n",
    "\n",
    "z = np.polyfit(dfVirginica['PetalLengthCm'], dfVirginica['PetalWidthCm'], 1)\n",
    "p = np.poly1d(z)\n",
    "plt.plot(dfVirginica['PetalLengthCm'],p(dfVirginica['PetalLengthCm']), \"b--\",)"
   ]
  },
  {
   "cell_type": "markdown",
   "metadata": {},
   "source": [
    "Scatter plot with Petal Length and Petal width shows no correlation."
   ]
  },
  {
   "cell_type": "code",
   "execution_count": null,
   "metadata": {},
   "outputs": [],
   "source": [
    "plt.figure()\n",
    "\n",
    "# Create a figure and a set of subplots with 2 columns and 2 rows.\n",
    "fig, ax = plt.subplots(2,2, figsize=(17, 14))\n",
    "\n",
    "# ax - tell us where is plot, bins to find out, rwidth - bin width, \n",
    "dfVirginica['SepalLengthCm'].plot(\n",
    "    kind='hist', # what kind of plot: linear, histogram, pie, scatter etc. \n",
    "    bins=np.arange(4.75,8,0.1), # set bin edges, \n",
    "    rwidth=0.9, # width of bin\n",
    "    ax=ax[0][0], # shows where to plot   \n",
    "    xticks=pd.unique(dfVirginica['SepalLengthCm']), # set ticks on x axis, as unique values from SepalLengthCm column \n",
    "    color='lightblue', # color of histogram\n",
    "    grid=True, # set grid as True\n",
    "    yticks=np.arange(0,7,1), # set ticks on y axis in range from 0 to 10 with step 1\n",
    "    fontsize=12) # set font size for ticks on x and y axis\n",
    "\n",
    "dfVirginica['SepalWidthCm'].plot(\n",
    "    kind='hist', \n",
    "    bins=np.arange(2.05,3.9,0.1), \n",
    "    rwidth=0.9, \n",
    "    ax=ax[0][1],\n",
    "    xticks=pd.unique(dfVirginica['SepalWidthCm']),\n",
    "    color='orange',\n",
    "    grid=True,\n",
    "    yticks=np.arange(0,15,1),\n",
    "    fontsize=12)\n",
    "\n",
    "\n",
    "dfVirginica['PetalLengthCm'].plot(\n",
    "    kind='hist', \n",
    "    bins=np.arange(4.45,7,0.1), \n",
    "    rwidth=0.9, \n",
    "    ax=ax[1][0], \n",
    "    xticks=pd.unique(dfVirginica['PetalLengthCm']),\n",
    "    color='lightgreen',\n",
    "    grid=True,\n",
    "    yticks=np.arange(0,8,1),\n",
    "    fontsize=12)\n",
    "\n",
    "dfVirginica['PetalWidthCm'].plot(\n",
    "    kind='hist', \n",
    "    bins=np.arange(1.25,2.7,0.1), \n",
    "    rwidth=0.9, \n",
    "    ax=ax[1][1],\n",
    "    xticks=pd.unique(dfVirginica['PetalWidthCm']), \n",
    "    color='red',\n",
    "    grid=(True),\n",
    "    yticks=np.arange(0,12,1),\n",
    "    fontsize=12)\n",
    "\n",
    "# set title and axis labels\n",
    "ax[0][0].set(title='Frequency Chart - Iris Virginica', xlabel = 'Sepal Length in cm' )\n",
    "ax[0][1].set(title='Frequency Chart - Iris Virginica', xlabel = 'Sepal Width in cm')\n",
    "ax[1][0].set(title='Frequency Chart - Iris Virginica', xlabel = 'Petal Length in cm')\n",
    "ax[1][1].set(title='Frequency Chart - Iris Virginica', xlabel = 'Petal Width in cm' )\n",
    "\n",
    "# set grid color, line style and line width\n",
    "ax[0][0].grid(color='lightgrey', linestyle='--', linewidth=0.6)\n",
    "ax[0][1].grid(color='lightgrey', linestyle='--', linewidth=0.6)\n",
    "ax[1][0].grid(color='lightgrey', linestyle='--', linewidth=0.6)\n",
    "ax[1][1].grid(color='lightgrey', linestyle='--', linewidth=0.6)\n",
    "\n",
    "plt.tight_layout()\n",
    "plt.show()"
   ]
  },
  {
   "cell_type": "markdown",
   "metadata": {},
   "source": [
    "In Iris Virginica Sepal length we have a value of ` 4.9 cm` which is significantly lower than other data points.\n",
    "Sepal Width value of `2.2 cm` and Petal Length of `4.5 cm` are also outliers\n",
    "\n"
   ]
  },
  {
   "cell_type": "code",
   "execution_count": null,
   "metadata": {},
   "outputs": [],
   "source": [
    "# http://hamelg.blogspot.com/2015/11/python-for-data-analysis-part-19_17.html\n",
    "\n",
    "crossTable = pd.crosstab(index=dfVirginica['SepalLengthCm'], columns = 'count', )\n",
    "\n",
    "# dataframe.count() function is used to count the umber of data points in data frame. \n",
    "# we assign result of dfVirginica.count() to variables.\n",
    "\n",
    "sepalLengthNo, sepalWidthNo, petalLengthNo, petalWidthNo, speciesNo = dfVirginica.count()\n",
    "\n",
    "#For better view I transpose table \n",
    "crossTable = crossTable.T\n",
    "\n",
    "# statement below add new row 'Percent' with calculated field \n",
    "crossTable.loc['Percent [%]'] = (crossTable.loc['count']/sepalLengthNo)*100\n",
    "\n",
    "crossTable"
   ]
  },
  {
   "cell_type": "markdown",
   "metadata": {},
   "source": [
    "Cross Table shows that `32%` of overall Iris Virginica Sepal Length data points falls to `6.3`, `6.4` and `6.7` length."
   ]
  },
  {
   "cell_type": "code",
   "execution_count": null,
   "metadata": {},
   "outputs": [],
   "source": [
    "# Let's do the same for the remaining data\n",
    "crossTable = pd.crosstab(index=dfVirginica['SepalWidthCm'], columns = 'count', )\n",
    "crossTable = crossTable.T\n",
    "crossTable.loc['Percent [%]'] = (crossTable.loc['count']/sepalWidthNo)\n",
    "crossTable"
   ]
  },
  {
   "cell_type": "markdown",
   "metadata": {},
   "source": [
    "Cross Table shows that `24%` of overall Iris Virginica Sepal width data points falls to `3 cm` length and `16%` falls to `2.8 cm` length.\n"
   ]
  },
  {
   "cell_type": "code",
   "execution_count": null,
   "metadata": {},
   "outputs": [],
   "source": [
    "crossTable = pd.crosstab(index=dfVirginica['PetalLengthCm'], columns = 'count', )\n",
    "crossTable = crossTable.T\n",
    "crossTable.loc['Percent [%]'] = (crossTable.loc['count']/petalLengthNo)\n",
    "crossTable"
   ]
  },
  {
   "cell_type": "markdown",
   "metadata": {},
   "source": [
    "Cross Table shows that `14%` of overall Iris Virginica Petal Length data points falls to 5.1 cm length."
   ]
  },
  {
   "cell_type": "code",
   "execution_count": null,
   "metadata": {},
   "outputs": [],
   "source": [
    "crossTable = pd.crosstab(index=dfVirginica['PetalWidthCm'], columns = 'count', )\n",
    "crossTable = crossTable.T\n",
    "crossTable.loc['Percent [%]'] = (crossTable.loc['count']/petalWidthNo)\n",
    "crossTable"
   ]
  },
  {
   "cell_type": "markdown",
   "metadata": {},
   "source": [
    "Cross Table shows that `22%` of overall Iris Virginica Petal Width data points falls to `1.8 cm` length."
   ]
  },
  {
   "cell_type": "code",
   "execution_count": null,
   "metadata": {},
   "outputs": [],
   "source": [
    "print('Iris Virginica Sepal Length mean =', np.round(dfVirginica['SepalLengthCm'].mean(),decimals=2)) \n",
    "print('Iris Virginica Sepal Length Standard Deviations =',np.round(dfVirginica['SepalLengthCm'].std(),decimals=2))\n",
    "print()\n",
    "print('Iris Virginica Sepal Width mean =',np.round(dfVirginica['SepalWidthCm'].mean(),decimals=1))\n",
    "print('Iris Virginica Sepal Width Standard Deviations =',np.round(dfVirginica['SepalWidthCm'].std(),decimals=2))"
   ]
  },
  {
   "cell_type": "markdown",
   "metadata": {},
   "source": [
    "Average size of Iris Virginica Sepal\n",
    "\n",
    "sepal length  $$6.59 \\pm 0.64 cm $$\n",
    "sepal width  $$3.00 \\pm 0.32 cm $$"
   ]
  },
  {
   "cell_type": "code",
   "execution_count": null,
   "metadata": {},
   "outputs": [],
   "source": [
    "print('Iris Virginica Petal Length mean =', np.round(dfVirginica['PetalLengthCm'].mean(),decimals=2)) \n",
    "print('Iris Virginica Petal Length Standard Deviations =',np.round(dfVirginica['PetalLengthCm'].std(),decimals=2))\n",
    "print()\n",
    "print('Iris Virginica Petal Width mean =',np.round(dfVirginica['PetalWidthCm'].mean(),decimals=1))\n",
    "print('Iris Virginica Petal Width Standard Deviations =',np.round(dfVirginica['PetalWidthCm'].std(),decimals=2))"
   ]
  },
  {
   "cell_type": "markdown",
   "metadata": {},
   "source": [
    "Average size of Iris Virginica Petal\n",
    "\n",
    "Petal length  $$5.55 \\pm 0.55 cm $$\n",
    "Petal width  $$2.00 \\pm 0.27 cm $$"
   ]
  },
  {
   "cell_type": "code",
   "execution_count": null,
   "metadata": {
    "scrolled": false
   },
   "outputs": [],
   "source": [
    "# https://machinelearningmastery.com/a-gentle-introduction-to-normality-tests-in-python/\n",
    "\n",
    "plt.figure()\n",
    "\n",
    "# Create a figure and a set of subplots with 2 columns and 2 rows.\n",
    "fig, ax = plt.subplots(2,2, figsize=(17, 14))\n",
    "\n",
    "# plot qq charts with data\n",
    "qqplot(dfVirginica['SepalLengthCm'],ax = ax[0][0], line='s', )\n",
    "qqplot(dfVirginica['SepalWidthCm'],ax = ax[0][1], line='s', )\n",
    "qqplot(dfVirginica['PetalLengthCm'],ax = ax[1][0], line='s', )\n",
    "qqplot(dfVirginica['PetalWidthCm'],ax = ax[1][1], line='s', )\n",
    "\n",
    "# set title and axis labels\n",
    "ax[0][0].set(title='Q-Q Test - Iris Virginica - Sepal Length', ylabel = 'Sepal Length in cm' )\n",
    "ax[0][1].set(title='Q-Q Test - Iris Virginica - Sepal Width', ylabel = 'Sepal Width in cm')\n",
    "ax[1][0].set(title='Q-Q Test - Iris Virginica - Petal Length',ylabel = 'Petal Length in cm')\n",
    "ax[1][1].set(title='Q-Q Test - Iris Virginica - Petal Width',ylabel = 'Petal Width in cm')\n",
    "\n",
    "pyplot.show()"
   ]
  },
  {
   "cell_type": "markdown",
   "metadata": {},
   "source": [
    "From the above graphs, it can be read that all 4 values have a Normal Distribution. To confirm let's do Shapiro-Wilk test:"
   ]
  },
  {
   "cell_type": "code",
   "execution_count": null,
   "metadata": {},
   "outputs": [],
   "source": [
    "# Shapiro-Wilk Test\n",
    "# https://machinelearningmastery.com/a-gentle-introduction-to-normality-tests-in-python/\n",
    "\n",
    "# import shapiro() function from scipy.stats\n",
    "from scipy.stats import shapiro # \n",
    "\n",
    "data = dfVirginica['SepalLengthCm']\n",
    "\n",
    "# we use shapiro() on our data and assign the result to variables stat and p\n",
    "stat, p = shapiro(data)\n",
    "\n",
    "print('Statistics=%.3f, p=%.3f' % (stat, p))\n",
    "\n",
    "# if calculated p is bigger than alpha, our data are normally distributed \n",
    "\n",
    "alpha = 0.05\n",
    "if p > alpha:\n",
    "    print('Sepal Length data looks Gaussian (fail to reject H0)')\n",
    "else:\n",
    "    print('Sepal Length data does not look Gaussian (reject H0)')"
   ]
  },
  {
   "cell_type": "code",
   "execution_count": null,
   "metadata": {},
   "outputs": [],
   "source": [
    "# Shapiro-Wilk Test\n",
    "\n",
    "data = dfVirginica['SepalWidthCm']\n",
    "stat, p = shapiro(data)\n",
    "print('Statistics=%.3f, p=%.3f' % (stat, p))\n",
    "alpha = 0.05\n",
    "if p > alpha:\n",
    "    print('Sepal Width data looks Gaussian (fail to reject H0)')\n",
    "else:\n",
    "    print('Sepal Width data does not look Gaussian (reject H0)')"
   ]
  },
  {
   "cell_type": "code",
   "execution_count": null,
   "metadata": {},
   "outputs": [],
   "source": [
    "# Shapiro-Wilk Test\n",
    "\n",
    "data = dfVirginica['PetalLengthCm']\n",
    "stat, p = shapiro(data)\n",
    "print('Statistics=%.3f, p=%.3f' % (stat, p))\n",
    "alpha = 0.05\n",
    "if p > alpha:\n",
    "    print('Petal Length data looks Gaussian (fail to reject H0)')\n",
    "else:\n",
    "    print('Petal Length data does not look Gaussian (reject H0)')"
   ]
  },
  {
   "cell_type": "code",
   "execution_count": null,
   "metadata": {},
   "outputs": [],
   "source": [
    "# Shapiro-Wilk Test\n",
    "\n",
    "data = dfVirginica['PetalWidthCm']\n",
    "stat, p = shapiro(data)\n",
    "print('Statistics=%.3f, p=%.3f' % (stat, p))\n",
    "alpha = 0.05\n",
    "if p > alpha:\n",
    "    print('Petal Width data looks Gaussian (fail to reject H0)')\n",
    "else:\n",
    "    print('Petal Width data does not look Gaussian (reject H0)')"
   ]
  },
  {
   "cell_type": "markdown",
   "metadata": {},
   "source": [
    "The test shows that all Sepal and Petal values for Iris Virginica look like Gaussian distribution."
   ]
  },
  {
   "cell_type": "code",
   "execution_count": null,
   "metadata": {},
   "outputs": [],
   "source": [
    "# https://www.tutorialspoint.com/python/python_normal_distribution.htm\n",
    "\n",
    "plt.figure()\n",
    "\n",
    "# Create a figure and a set of subplots with 2 columns and 2 rows.\n",
    "fig, ax = plt.subplots(2,2, figsize=(17, 14))\n",
    "\n",
    "# mean and standard deviation assigned to variables mu and s\n",
    "mu, s = 6.59, 0.64\n",
    "\n",
    "# our data\n",
    "data = dfVirginica['SepalLengthCm']\n",
    "\n",
    "# we plot a histogram from which we read bins and assign them to variable\n",
    "count, bins, ignored = ax[0][0].hist(data, 30, density=True)\n",
    "\n",
    "# Plot the distribution curve from equation\n",
    "ax[0][0].plot(bins, 1/(s * np.sqrt(2 * np.pi)) *np.exp( - (bins - mu)**2 / (2 * s**2) ), linewidth=3, color='y')\n",
    "\n",
    "# we repeat steps for remaining data\n",
    "mu, sigma = 3.0, 0.32\n",
    "s = dfVirginica['SepalWidthCm']\n",
    "count, bins, ignored = ax[0][1].hist(s, 30, density=True)\n",
    "ax[0][1].plot(bins, 1/(sigma * np.sqrt(2 * np.pi)) *np.exp( - (bins - mu)**2 / (2 * sigma**2) ), linewidth=3, color='y')\n",
    "\n",
    "mu, sigma = 5.55, 0.55\n",
    "s = dfVirginica['PetalLengthCm']\n",
    "count, bins, ignored = ax[1][0].hist(s, 30, density=True)\n",
    "ax[1][0].plot(bins, 1/(sigma * np.sqrt(2 * np.pi)) *np.exp( - (bins - mu)**2 / (2 * sigma**2) ), linewidth=3, color='y')\n",
    "\n",
    "mu, sigma = 2.0, 0.27\n",
    "s = dfVirginica['PetalWidthCm']\n",
    "count, bins, ignored = ax[1][1].hist(s, 30, density=True)\n",
    "ax[1][1].plot(bins, 1/(sigma * np.sqrt(2 * np.pi)) *np.exp( - (bins - mu)**2 / (2 * sigma**2) ), linewidth=3, color='y')\n",
    "\n",
    "ax[0][0].set(\n",
    "        title='Histogram with Normal Distribution - Iris Virginica - Sepal Length', \n",
    "        xlabel = 'Sepal Width in cm', \n",
    "        ylabel = 'Density of probability')\n",
    "\n",
    "ax[0][1].set(\n",
    "        title='Histogram with Normal Distribution - Iris Virginica - Sepal Width', \n",
    "        xlabel = 'Sepal Width in cm', \n",
    "        ylabel = 'Density of probability')\n",
    "\n",
    "ax[1][0].set(\n",
    "    title='Histogram with Normal Distribution - Iris Virginica - Petal Length',\n",
    "    xlabel = 'Petal Length in cm', \n",
    "    ylabel = 'Density of probability')\n",
    "\n",
    "ax[1][1].set(\n",
    "    title='Histogram with Normal Distribution - Iris Virginica - Petal Width',\n",
    "    xlabel = 'Petal Width in cm', \n",
    "    ylabel = 'Density of probability')\n",
    "\n",
    "plt.show()"
   ]
  },
  {
   "cell_type": "code",
   "execution_count": null,
   "metadata": {},
   "outputs": [],
   "source": [
    "# https://stackoverflow.com/a/10138381/11107506\n",
    "\n",
    "from scipy.stats import norm\n",
    "\n",
    "plt.figure()\n",
    "\n",
    "# Create a figure and a set of subplots with 2 columns and 2 rows.\n",
    "fig, ax = plt.subplots(1,1, figsize=(10, 6))\n",
    "x_axis = np.arange(0, 10, 0.001)\n",
    "ax.plot(x_axis, norm.pdf(x_axis,6.59, 0.64), label = 'Sepal Length' )\n",
    "ax.plot(x_axis, norm.pdf(x_axis,3.0, 0.32), label = 'Sepal Width' )\n",
    "ax.plot(x_axis, norm.pdf(x_axis,5.55, 0.55), label = 'Petal Length' )\n",
    "ax.plot(x_axis, norm.pdf(x_axis,2.0, 0.27), label = 'Petal Width' )\n",
    "\n",
    "plt.legend(\n",
    "    loc='upper right',  \n",
    "    shadow=True, \n",
    "    frameon = True)\n",
    "ax.set(title='Normal Distribution - Iris Virginica', xlabel = 'Width in cm', ylabel = 'Density of probability')\n",
    "plt.show()"
   ]
  },
  {
   "cell_type": "code",
   "execution_count": null,
   "metadata": {},
   "outputs": [],
   "source": [
    "plt.figure(figsize=(7,9))\n",
    "sns.boxplot(data=dfVirginica,)"
   ]
  },
  {
   "cell_type": "markdown",
   "metadata": {},
   "source": [
    "### Iris-Versicolor Analyse"
   ]
  },
  {
   "cell_type": "code",
   "execution_count": null,
   "metadata": {},
   "outputs": [],
   "source": [
    "dfVersicolor['Species'].value_counts()"
   ]
  },
  {
   "cell_type": "code",
   "execution_count": null,
   "metadata": {},
   "outputs": [],
   "source": [
    "dfVersicolor = dfVersicolor.drop(['Id'], axis = 1)\n",
    "dfVersicolor.describe()"
   ]
  },
  {
   "cell_type": "code",
   "execution_count": null,
   "metadata": {},
   "outputs": [],
   "source": [
    "# Scatter plot od Sepal Length and Sepal Width\n",
    "# https://chartio.com/learn/dashboards-and-charts/what-is-a-scatter-plot/\n",
    "# https://www.numpy.org/devdocs/reference/generated/numpy.polynomial.polynomial.polyfit.html\n",
    "# https://stackoverflow.com/a/26447505\n",
    "\n",
    "from numpy.polynomial import Polynomial\n",
    "\n",
    "dfVersicolor.plot(\n",
    "    kind='scatter', # Plot Type: linear, histogram, pie, scatter etc. \n",
    "    x='SepalLengthCm', # data on x axis \n",
    "    y='SepalWidthCm',  # data on y axis \n",
    "    color='DarkBlue',  # color\n",
    "    label='Iris Versicolor Sepal', # label\n",
    "    figsize=(10,6)) # chart size\n",
    "\n",
    "# Set legend\n",
    "plt.legend(\n",
    "    loc='upper center', # place of legend\n",
    "    shadow=True, # drop shadow\n",
    "    frameon = True) # frame around legend \n",
    "\n",
    "#Trend line plot - to calculate trendline i used polyfit and poly1d function from NumPy library. \n",
    "z = np.polyfit(dfVersicolor['SepalLengthCm'], dfVersicolor['SepalWidthCm'], 1)\n",
    "p = np.poly1d(z)\n",
    "\n",
    "plt.plot(dfVersicolor['SepalLengthCm'],p(dfVersicolor['SepalLengthCm']), \"r--\",)"
   ]
  },
  {
   "cell_type": "markdown",
   "metadata": {},
   "source": [
    "The plot shows no correlation between Sepal Length and Sepal Width for Iris Versicolor."
   ]
  },
  {
   "cell_type": "code",
   "execution_count": null,
   "metadata": {},
   "outputs": [],
   "source": [
    "dfVersicolor.plot(\n",
    "    kind='scatter', \n",
    "    x='PetalLengthCm', \n",
    "    y='PetalWidthCm',  \n",
    "    color='red',  \n",
    "    label='Iris Versicolor Petal',\n",
    "    figsize=(10,6))\n",
    "\n",
    "plt.legend(\n",
    "    loc='upper center',  \n",
    "    shadow=True, \n",
    "    frameon = True)\n",
    "\n",
    "z = np.polyfit(dfVersicolor['PetalLengthCm'], dfVersicolor['PetalWidthCm'], 1)\n",
    "p = np.poly1d(z)\n",
    "plt.plot(dfVersicolor['PetalLengthCm'],p(dfVersicolor['PetalLengthCm']), \"b--\",)"
   ]
  },
  {
   "cell_type": "markdown",
   "metadata": {},
   "source": [
    "The plot shows a low positive correlation between Petal length and Petal Width for Iris Versicolor."
   ]
  },
  {
   "cell_type": "code",
   "execution_count": null,
   "metadata": {},
   "outputs": [],
   "source": [
    "# https://pandas.pydata.org/pandas-docs/stable/user_guide/visualization.html\n",
    "# https://stackoverflow.com/questions/45080698/make-frequency-histogram-from-list-with-tuple-elements/45080859#45080859\n",
    "# https://medium.com/python-pandemonium/data-visualization-in-python-histogram-in-matplotlib-dce38f49f89c\n",
    "\n",
    "\n",
    "plt.figure()\n",
    "\n",
    "# Create a figure and a set of subplots with 2 columns and 2 rows.\n",
    "fig, ax = plt.subplots(2,2, figsize=(17, 14))\n",
    "\n",
    "# ax - tell us where is plot, bins to find out, rwidth - bin width, \n",
    "dfVersicolor['SepalLengthCm'].plot(\n",
    "    kind='hist', # what kind of plot: linear, histogram, pie, scatter etc. \n",
    "    bins=np.arange(4.85,7.1,0.1), # set bin edges, \n",
    "    rwidth=0.9, # width of bin\n",
    "    ax=ax[0][0], # shows where to plot   \n",
    "    xticks=pd.unique(dfVersicolor['SepalLengthCm']), # set ticks on x axis, as unique values from SepalLengthCm column \n",
    "    color='lightblue', # color of histogram\n",
    "    grid=True, # set grid as True\n",
    "    yticks=np.arange(0,6,1), # set ticks on y axis in range from 0 to 10 with step 1\n",
    "    fontsize=12) # set font size for ticks on x and y axis\n",
    "\n",
    "dfVersicolor['SepalWidthCm'].plot(\n",
    "    kind='hist', \n",
    "    bins=np.arange(1.95,3.5,0.1), \n",
    "    rwidth=0.9, \n",
    "    ax=ax[0][1],\n",
    "    xticks=pd.unique(dfVersicolor['SepalWidthCm']),\n",
    "    color='orange',\n",
    "    grid=True,\n",
    "    yticks=np.arange(0,10,1),\n",
    "    fontsize=12)\n",
    "\n",
    "\n",
    "dfVersicolor['PetalLengthCm'].plot(\n",
    "    kind='hist', \n",
    "    bins=np.arange(2.95,5.2,0.1), \n",
    "    rwidth=0.9, \n",
    "    ax=ax[1][0], \n",
    "    xticks=pd.unique(dfVersicolor['PetalLengthCm']),\n",
    "    color='lightgreen',\n",
    "    grid=True,\n",
    "    yticks=np.arange(0,8,1),\n",
    "    fontsize=12)\n",
    "\n",
    "dfVersicolor['PetalWidthCm'].plot(\n",
    "    kind='hist', \n",
    "    bins=np.arange(0.85,2.0,0.1), \n",
    "    rwidth=0.9, \n",
    "    ax=ax[1][1],\n",
    "    xticks=pd.unique(dfVersicolor['PetalWidthCm']), \n",
    "    color='red',\n",
    "    grid=(True),\n",
    "    yticks=np.arange(0,14,1),\n",
    "    fontsize=12)\n",
    "\n",
    "# set title and axis labels\n",
    "ax[0][0].set(title='Frequency Chart - Iris Versicolor', xlabel = 'Sepal Length in cm' )\n",
    "ax[0][1].set(title='Frequency Chart - Iris Versicolor', xlabel = 'Sepal Width in cm')\n",
    "ax[1][0].set(title='Frequency Chart - Iris Versicolor', xlabel = 'Petal Length in cm')\n",
    "ax[1][1].set(title='Frequency Chart - Iris Versicolor', xlabel = 'Petal Width in cm' )\n",
    "\n",
    "# set grid color, line style and line width\n",
    "ax[0][0].grid(color='lightgrey', linestyle='--', linewidth=0.6)\n",
    "ax[0][1].grid(color='lightgrey', linestyle='--', linewidth=0.6)\n",
    "ax[1][0].grid(color='lightgrey', linestyle='--', linewidth=0.6)\n",
    "ax[1][1].grid(color='lightgrey', linestyle='--', linewidth=0.6)\n",
    "\n",
    "plt.tight_layout()\n",
    "plt.show()"
   ]
  },
  {
   "cell_type": "code",
   "execution_count": null,
   "metadata": {},
   "outputs": [],
   "source": [
    "# http://hamelg.blogspot.com/2015/11/python-for-data-analysis-part-19_17.html\n",
    "\n",
    "crossTable = pd.crosstab(index=dfVersicolor['SepalLengthCm'], columns = 'count', )\n",
    "\n",
    "# dataframe.count() function is used to count the umber of data points in data frame. \n",
    "# we assign result of dfSetosa.count() to variables.\n",
    "\n",
    "sepalLengthNo, sepalWidthNo, petalLengthNo, petalWidthNo, speciesNo = dfVersicolor.count()\n",
    "\n",
    "#For better view I transpose table \n",
    "crossTable = crossTable.T\n",
    "\n",
    "# statement below add new row 'Percent' with calculated field \n",
    "crossTable.loc['Percent [%]'] = (crossTable.loc['count']/sepalLengthNo)*100\n",
    "\n",
    "crossTable"
   ]
  },
  {
   "cell_type": "markdown",
   "metadata": {},
   "source": [
    "Cross Table shows that `30%` of overall Iris Versicolor Sepal Length data points fall to `5.5 cm`, `5.6 cm` and `5.7 cm` length."
   ]
  },
  {
   "cell_type": "code",
   "execution_count": null,
   "metadata": {},
   "outputs": [],
   "source": [
    "# Let's do the same for the remaining data\n",
    "crossTable = pd.crosstab(index=dfVersicolor['SepalWidthCm'], columns = 'count', )\n",
    "crossTable = crossTable.T\n",
    "crossTable.loc['Percent [%]'] = (crossTable.loc['count']/sepalWidthNo)\n",
    "crossTable"
   ]
  },
  {
   "cell_type": "markdown",
   "metadata": {},
   "source": [
    "Cross Table shows that `42%` of overall Iris Versicolor Sepal Width data points fall to `2.8 cm`, `2.9 cm` and `3.0 cm` length."
   ]
  },
  {
   "cell_type": "code",
   "execution_count": null,
   "metadata": {},
   "outputs": [],
   "source": [
    "crossTable = pd.crosstab(index=dfVersicolor['PetalLengthCm'], columns = 'count', )\n",
    "crossTable = crossTable.T\n",
    "crossTable.loc['Percent [%]'] = (crossTable.loc['count']/petalLengthNo)\n",
    "crossTable"
   ]
  },
  {
   "cell_type": "markdown",
   "metadata": {},
   "source": [
    "Cross Table shows that `14%` of overall Iris Versicolor Petal Length data points fall to `4.5 cm` length."
   ]
  },
  {
   "cell_type": "code",
   "execution_count": null,
   "metadata": {},
   "outputs": [],
   "source": [
    "crossTable = pd.crosstab(index=dfVersicolor['PetalWidthCm'], columns = 'count', )\n",
    "crossTable = crossTable.T\n",
    "crossTable.loc['Percent [%]'] = (crossTable.loc['count']/petalWidthNo)\n",
    "crossTable"
   ]
  },
  {
   "cell_type": "markdown",
   "metadata": {},
   "source": [
    "Cross Table shows that `40%` of overall Iris Versicolor Petal Width data points fall to `1.3 cm` and `1.4 cm` length."
   ]
  },
  {
   "cell_type": "code",
   "execution_count": null,
   "metadata": {},
   "outputs": [],
   "source": [
    "print('Iris Versicolor Sepal Length mean =', np.round(dfVersicolor['SepalLengthCm'].mean(),decimals=2)) \n",
    "print('Iris Versicolor Sepal Length Standard Deviations =',np.round(dfVersicolor['SepalLengthCm'].std(),decimals=2))\n",
    "print()\n",
    "print('Iris Versicolor Sepal Width mean =',np.round(dfVersicolor['SepalWidthCm'].mean(),decimals=1))\n",
    "print('Iris Versicolor Sepal Width Standard Deviations =',np.round(dfVersicolor['SepalWidthCm'].std(),decimals=2))"
   ]
  },
  {
   "cell_type": "markdown",
   "metadata": {},
   "source": [
    "Average size of Iris Virginica Petal\n",
    "\n",
    "sepal length  $$5.94 \\pm 0.52 cm $$\n",
    "sepal width  $$2.80 \\pm 0.31 cm $$"
   ]
  },
  {
   "cell_type": "code",
   "execution_count": null,
   "metadata": {},
   "outputs": [],
   "source": [
    "print('Iris Versicolor Petal Length mean =', np.round(dfVersicolor['PetalLengthCm'].mean(),decimals=2)) \n",
    "print('Iris Versicolor Petal Length Standard Deviations =',np.round(dfVersicolor['PetalLengthCm'].std(),decimals=2))\n",
    "print()\n",
    "print('Iris Versicolor Petal Width mean =',np.round(dfVersicolor['PetalWidthCm'].mean(),decimals=1))\n",
    "print('Iris Versicolor Petal Width Standard Deviations =',np.round(dfVersicolor['PetalWidthCm'].std(),decimals=2))"
   ]
  },
  {
   "cell_type": "markdown",
   "metadata": {},
   "source": [
    "Average size of Iris Virginica Petal\n",
    "\n",
    "Petal length  $$4.26 \\pm 0.47 cm $$\n",
    "Petal width  $$1.30 \\pm 0.20 cm $$"
   ]
  },
  {
   "cell_type": "code",
   "execution_count": null,
   "metadata": {},
   "outputs": [],
   "source": [
    "# https://machinelearningmastery.com/a-gentle-introduction-to-normality-tests-in-python/\n",
    "\n",
    "plt.figure()\n",
    "\n",
    "# Create a figure and a set of subplots with 2 columns and 2 rows.\n",
    "fig, ax = plt.subplots(2,2, figsize=(17, 14))\n",
    "\n",
    "# plot qq charts with data\n",
    "qqplot(dfVersicolor['SepalLengthCm'],ax = ax[0][0], line='s', )\n",
    "qqplot(dfVersicolor['SepalWidthCm'],ax = ax[0][1], line='s', )\n",
    "qqplot(dfVersicolor['PetalLengthCm'],ax = ax[1][0], line='s', )\n",
    "qqplot(dfVersicolor['PetalWidthCm'],ax = ax[1][1], line='s', )\n",
    "\n",
    "# set title and axis labels\n",
    "ax[0][0].set(title='Q-Q Test - Iris Versicolor - Sepal Length', ylabel = 'Sepal Length in cm' )\n",
    "ax[0][1].set(title='Q-Q Test - Iris Versicolor - Sepal Width', ylabel = 'Sepal Width in cm')\n",
    "ax[1][0].set(title='Q-Q Test - Iris Versicolor - Petal Length',ylabel = 'Petal Length in cm')\n",
    "ax[1][1].set(title='Q-Q Test - Iris Versicolor - Petal Width',ylabel = 'Petal Width in cm')\n",
    "\n",
    "pyplot.show()"
   ]
  },
  {
   "cell_type": "code",
   "execution_count": null,
   "metadata": {},
   "outputs": [],
   "source": [
    "# Shapiro-Wilk Test\n",
    "# https://machinelearningmastery.com/a-gentle-introduction-to-normality-tests-in-python/\n",
    "\n",
    "# import shapiro() function from scipy.stats\n",
    "from scipy.stats import shapiro # \n",
    "\n",
    "data = dfVersicolor['SepalLengthCm']\n",
    "\n",
    "# we use shapiro() on our data and assign the result to variables stat and p\n",
    "stat, p = shapiro(data)\n",
    "\n",
    "print('Statistics=%.3f, p=%.3f' % (stat, p))\n",
    "\n",
    "# if calculated p is bigger than alpha, our data are normally distributed \n",
    "\n",
    "alpha = 0.05\n",
    "if p > alpha:\n",
    "    print('Sepal Length data looks Gaussian (fail to reject H0)')\n",
    "else:\n",
    "    print('Sepal Length data does not look Gaussian (reject H0)')"
   ]
  },
  {
   "cell_type": "code",
   "execution_count": null,
   "metadata": {},
   "outputs": [],
   "source": [
    "# Shapiro-Wilk Test\n",
    "\n",
    "data = dfVersicolor['SepalWidthCm']\n",
    "stat, p = shapiro(data)\n",
    "print('Statistics=%.3f, p=%.3f' % (stat, p))\n",
    "alpha = 0.05\n",
    "if p > alpha:\n",
    "    print('Sepal Width data looks Gaussian (fail to reject H0)')\n",
    "else:\n",
    "    print('Sepal Width data does not look Gaussian (reject H0)')"
   ]
  },
  {
   "cell_type": "code",
   "execution_count": null,
   "metadata": {},
   "outputs": [],
   "source": [
    "# Shapiro-Wilk Test\n",
    "\n",
    "data = dfVersicolor['PetalLengthCm']\n",
    "stat, p = shapiro(data)\n",
    "print('Statistics=%.3f, p=%.3f' % (stat, p))\n",
    "alpha = 0.05\n",
    "if p > alpha:\n",
    "    print('Petal Length data looks Gaussian (fail to reject H0)')\n",
    "else:\n",
    "    print('Petal Length data does not look Gaussian (reject H0)')"
   ]
  },
  {
   "cell_type": "code",
   "execution_count": null,
   "metadata": {},
   "outputs": [],
   "source": [
    "# Shapiro-Wilk Test\n",
    "\n",
    "data = dfVersicolor['PetalWidthCm']\n",
    "stat, p = shapiro(data)\n",
    "print('Statistics=%.3f, p=%.3f' % (stat, p))\n",
    "alpha = 0.05\n",
    "if p > alpha:\n",
    "    print('Petal Width data looks Gaussian (fail to reject H0)')\n",
    "else:\n",
    "    print('Petal Width data does not look Gaussian (reject H0)')"
   ]
  },
  {
   "cell_type": "markdown",
   "metadata": {},
   "source": [
    "From the Q-Q test plots and Shapiro-Wilk Test, we can deduce that Petal Length, Sepal Length, and Sepal Width are normally distributed.\n",
    "Petal Width has a p-value lower than alpha, which means that data are not Gaussian distributed.\n"
   ]
  },
  {
   "cell_type": "code",
   "execution_count": null,
   "metadata": {},
   "outputs": [],
   "source": [
    "# https://www.tutorialspoint.com/python/python_normal_distribution.htm\n",
    "\n",
    "plt.figure()\n",
    "\n",
    "# Create a figure and a set of subplots with 2 columns and 2 rows.\n",
    "fig, ax = plt.subplots(2,2, figsize=(17, 14))\n",
    "\n",
    "# mean and standard deviation assigned to variables mu and s\n",
    "mu, s = 5.94, 0.52\n",
    "\n",
    "# our data\n",
    "data = dfVersicolor['SepalLengthCm']\n",
    "\n",
    "# we plot a histogram from which we read bins and assign them to variable\n",
    "count, bins, ignored = ax[0][0].hist(data, 30, density=True)\n",
    "\n",
    "# Plot the distribution curve from equation\n",
    "ax[0][0].plot(bins, 1/(s * np.sqrt(2 * np.pi)) *np.exp( - (bins - mu)**2 / (2 * s**2) ), linewidth=3, color='y')\n",
    "\n",
    "# we repeat steps for remaining data\n",
    "mu, sigma = 2.8, 0.31\n",
    "s = dfVersicolor['SepalWidthCm']\n",
    "count, bins, ignored = ax[0][1].hist(s, 30, density=True)\n",
    "ax[0][1].plot(bins, 1/(sigma * np.sqrt(2 * np.pi)) *np.exp( - (bins - mu)**2 / (2 * sigma**2) ), linewidth=3, color='y')\n",
    "\n",
    "mu, sigma = 4.26, 0.47\n",
    "s = dfVersicolor['PetalLengthCm']\n",
    "count, bins, ignored = ax[1][0].hist(s, 30, density=True)\n",
    "ax[1][0].plot(bins, 1/(sigma * np.sqrt(2 * np.pi)) *np.exp( - (bins - mu)**2 / (2 * sigma**2) ), linewidth=3, color='y')\n",
    "\n",
    "mu, sigma = 1.3, 0.2\n",
    "s = dfVersicolor['PetalWidthCm']\n",
    "count, bins, ignored = ax[1][1].hist(s, 30, density=True)\n",
    "ax[1][1].plot(bins, 1/(sigma * np.sqrt(2 * np.pi)) *np.exp( - (bins - mu)**2 / (2 * sigma**2) ), linewidth=3, color='y')\n",
    "\n",
    "ax[0][0].set(\n",
    "        title='Histogram with Normal Distribution - Iris Versicolor - Sepal Length', \n",
    "        xlabel = 'Sepal Width in cm', \n",
    "        ylabel = 'Density of probability')\n",
    "\n",
    "ax[0][1].set(\n",
    "        title='Histogram with Normal Distribution - Iris Versicolor - Sepal Width', \n",
    "        xlabel = 'Sepal Width in cm', \n",
    "        ylabel = 'Density of probability')\n",
    "\n",
    "ax[1][0].set(\n",
    "    title='Histogram with Normal Distribution - Iris Versicolor - Petal Length',\n",
    "    xlabel = 'Petal Length in cm', \n",
    "    ylabel = 'Density of probability')\n",
    "\n",
    "ax[1][1].set(\n",
    "    title='Histogram with Normal Distribution - Iris Versicolor - Petal Width',\n",
    "    xlabel = 'Petal Width in cm', \n",
    "    ylabel = 'Density of probability')\n",
    "\n",
    "plt.show()"
   ]
  },
  {
   "cell_type": "code",
   "execution_count": null,
   "metadata": {},
   "outputs": [],
   "source": [
    "# https://stackoverflow.com/a/10138381/11107506\n",
    "\n",
    "from scipy.stats import norm\n",
    "\n",
    "plt.figure()\n",
    "\n",
    "# Create a figure and a set of subplots with 2 columns and 2 rows.\n",
    "fig, ax = plt.subplots(1,1, figsize=(10, 6))\n",
    "x_axis = np.arange(-1, 7, 0.001)\n",
    "ax.plot(x_axis, norm.pdf(x_axis,5.94, 0.52), label = 'Sepal Length' )\n",
    "ax.plot(x_axis, norm.pdf(x_axis,2.8, 0.31), label = 'Sepal Width' )\n",
    "ax.plot(x_axis, norm.pdf(x_axis,4.26, 0.47), label = 'Petal Length' )\n",
    "ax.plot(x_axis, norm.pdf(x_axis,1.3, 0.2), label = 'Petal Width' )\n",
    "\n",
    "plt.legend(\n",
    "    loc='upper right',  \n",
    "    shadow=True, \n",
    "    frameon = True)\n",
    "ax.set(title='Normal Distribution - Iris Setosa', xlabel = 'Width in cm', ylabel = 'Density of probability')\n",
    "plt.show()"
   ]
  },
  {
   "cell_type": "code",
   "execution_count": null,
   "metadata": {},
   "outputs": [],
   "source": [
    "plt.figure(figsize=(7,9))\n",
    "sns.boxplot(data=dfVersicolor,)"
   ]
  },
  {
   "cell_type": "markdown",
   "metadata": {},
   "source": [
    "### Summary "
   ]
  },
  {
   "cell_type": "markdown",
   "metadata": {},
   "source": [
    "![pic](https://pbs.twimg.com/media/ChHAf21WYAAlh-v.jpg)"
   ]
  },
  {
   "cell_type": "markdown",
   "metadata": {},
   "source": [
    "While working on the Iris Data Set, I realized how much time has to be spent to get satisfying results. I have the impression that the work I have done is only the tip of the iceberg.\n",
    "\n",
    "I decided that I would analyze by treating each species of the Iris Data Set separately using the same techniques on each species.\n",
    "\n",
    "* Scatter plot with the trend line showed us that there is no dependence or is small between Sepal Length and Sepal Width. (But what is the relationship between Sepal and Petal?)\n",
    "* Frequency Chart showed us what is the distribution of length values for individual Sepal I Petal and using the Cross Table we showed the percentage distribution of values.\n",
    "\n",
    "* We calculated the average and Standard Deviation, which shows us that Iris Virginica has flowers 2 cm larger than other species.\n",
    "\n",
    "* The 50 data points sample is too small to test this data for normal distribution. The Q-Q test and the Shapiro-Wilk test were designed to show the technique and learn to recognize data in a normal distribution. We can assume that the data in Iris Setosa have a normal distribution. So 68% of data points are within the range (plus or minus). Standard Deviation and 95% of data points are distributed between -2 and 2 Standard Deviation values.\n",
    " \n",
    "* Placing all 4 values in Boxplot allowed us to display data distribution based on the five-number summary: minimum, first quartile, median, third quartile, and maximum\n",
    "\n",
    "I learned a lot about Jupyter Notebook, Pandas, NumPy, and matplotlib libraries.\n",
    "\n",
    "However, I feel the lack of knowledge about statistics and analysis of measurement errors. The last time I used these issues was 15 years ago. This is an important element in the analysis of the data on which I have to work. Also, it is necessary to broaden and systematize knowledge in the field of Pandas, NumPy, and data visualization techniques.\n",
    "\n",
    "I encountered a few problems with Github, after sending Jupyter notebook to Github, it did not open in the browser. Probably it was caused by maintenance work because the next day everything was working properly.\n"
   ]
  },
  {
   "cell_type": "markdown",
   "metadata": {},
   "source": [
    "### References \n",
    "\n",
    "Iris Data set downloaded From\n",
    "\n",
    "https://www.kaggle.com/saurabh00007/iriscsv\n",
    "\n",
    "Fishers Notebook \n",
    "\n",
    "http://rcs.chemometrics.ru/Tutorials/classification/Fisher.pdf\n",
    "\n",
    "http://patrickhoey.com/downloads/Computer_Science/03_Patrick_Hoey_Data_Visualization_Dataset_paper.pdf\n",
    "\n",
    "https://www.britannica.com/biography/Ronald-Aylmer-Fisher\n",
    "\n",
    "Styles in pandas and seaborn\n",
    "\n",
    "https://pandas.pydata.org/pandas-docs/stable/user_guide/style.html\n",
    "\n",
    "Iris flower image \n",
    "\n",
    "https://www.snaplogic.com/machine-learning-showcase/iris-flower-classification\n",
    "\n",
    "Pandas split DataFrame by column value\n",
    "\n",
    "https://stackoverflow.com/a/33742822/11107506\n",
    "\n",
    "Charts\n",
    "\n",
    "https://pandas.pydata.org/pandas-docs/stable/user_guide/visualization.html\n",
    "\n",
    "https://stackoverflow.com/a/45080859/11107506\n",
    "\n",
    "https://medium.com/python-pandemonium/data-visualization-in-python-histogram-in-matplotlib-dce38f49f89c\n",
    "\n",
    "https://pandas.pydata.org/pandas-docs/stable/reference/api/pandas.DataFrame.plot.bar.html\n",
    "\n",
    "https://stackoverflow.com/a/26447505\n",
    "\n",
    "https://pythonspot.com/matplotlib-legend/\n",
    "\n",
    "Boxplot\n",
    "\n",
    "https://seaborn.pydata.org/generated/seaborn.boxplot.html\n",
    "\n",
    "Check is null in data frame\n",
    "\n",
    "https://stackoverflow.com/a/29530559/11107506\n",
    "\n",
    "cross table \n",
    "\n",
    "http://hamelg.blogspot.com/2015/11/python-for-data-analysis-part-19_17.html\n",
    "\n",
    "https://pandas.pydata.org/pandas-docs/version/0.23.4/generated/pandas.crosstab.html\n",
    "\n",
    "https://pbpython.com/pandas-crosstab.html\n",
    "\n",
    "font size \n",
    "\n",
    "https://stackoverflow.com/a/12444777/11107506\n",
    "\n",
    "University of California, Irvine - Error Analysis\n",
    "\n",
    "http://faculty.sites.uci.edu/chem2l/files/2011/04/RDGerroranal.pdf\n",
    "\n",
    "Scatter plot definition - corelation  and NumPy polynomial Polyfit poly1d\n",
    "\n",
    "https://www.numpy.org/devdocs/reference/generated/numpy.polynomial.polynomial.polyfit.html\n",
    "\n",
    "https://chartio.com/learn/dashboards-and-charts/what-is-a-scatter-plot/\n",
    "\n",
    "https://stackoverflow.com/questions/26447191/how-to-add-trendline-in-python-matplotlib-dot-scatter-graphs/26447505#26447505\n",
    "\n",
    "QQ Test and distribution \n",
    "\n",
    "https://machinelearningmastery.com/a-gentle-introduction-to-normality-tests-in-python/\n",
    "\n",
    "http://www.statsmodels.org/dev/generated/statsmodels.graphics.gofplots.qqplot.html\n",
    "\n",
    "Normal distribution\n",
    "\n",
    "https://www.mathsisfun.com/data/standard-normal-distribution.html\n",
    "\n",
    "https://en.wikipedia.org/wiki/Normal_distribution"
   ]
  }
 ],
 "metadata": {
  "kernelspec": {
   "display_name": "Python 3",
   "language": "python",
   "name": "python3"
  },
  "language_info": {
   "codemirror_mode": {
    "name": "ipython",
    "version": 3
   },
   "file_extension": ".py",
   "mimetype": "text/x-python",
   "name": "python",
   "nbconvert_exporter": "python",
   "pygments_lexer": "ipython3",
   "version": "3.7.5"
  }
 },
 "nbformat": 4,
 "nbformat_minor": 2
}
