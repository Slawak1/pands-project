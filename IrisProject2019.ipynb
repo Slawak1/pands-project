﻿{
 "cells": [
  {
   "cell_type": "markdown",
   "metadata": {},
   "source": [
    "## Iris Data Set - Project 2019                                  \n",
    "### Programing and Scripting \n",
    "### GMIT Galway\n",
    "Slawomir Sowa\n",
    "12/04/2019"
   ]
  },
  {
   "cell_type": "markdown",
   "metadata": {},
   "source": [
    "### Subject\n",
    "\n",
    "Project concern Fisher’s Iris data set. \n",
    "\n",
    "1. Research background information about the data set and write a summary about it.\n",
    "2. Keep a list of references you used in completing the project.\n",
    "3. Download the data set and write some Python code to investigate it.\n",
    "4. Summarise the data set by, for example, calculating the maximum, minimum and mean of each column of the data set. A Python script will quickly do this for you.\n",
    "5. Write a summary of your investigations.\n",
    "6. Include supporting tables and graphics as you deem necessary.\n",
    "\n",
    "\n",
    "\n",
    "\n"
   ]
  },
  {
   "cell_type": "markdown",
   "metadata": {},
   "source": [
    "### Technology\n",
    "\n",
    "To analyse Iris Data Set I work with Python 3.7 and Jupyter Notebook.  \n",
    "\n",
    "<img width='400px' align='left' src='https://www.python.org/static/community_logos/python-logo-master-v3-TM.png'>\n",
    "\n",
    "<img width='150px' align='left' src='https://jupyter.org/assets/main-logo.svg'>\n",
    "\n"
   ]
  },
  {
   "cell_type": "markdown",
   "metadata": {},
   "source": [
    "### Fisher's Iris Data Set\n",
    "(history information about data-set to insert here)"
   ]
  },
  {
   "cell_type": "markdown",
   "metadata": {},
   "source": [
    "### Getting Data\n",
    "\n",
    "Iris Data Set downloaded from [www.kaggle.com](https://www.kaggle.com/saurabh00007/iriscsv)\n"
   ]
  },
  {
   "cell_type": "markdown",
   "metadata": {},
   "source": [
    "To read data from `iris.csv` file I used `pandas` library and `read_csv` function. Variable `data` is my data frame. `data.shape` describes how many rows and columns is in data set. "
   ]
  },
  {
   "cell_type": "code",
   "execution_count": 1,
   "metadata": {
    "scrolled": true
   },
   "outputs": [
    {
     "data": {
      "text/plain": [
       "(150, 6)"
      ]
     },
     "execution_count": 1,
     "metadata": {},
     "output_type": "execute_result"
    }
   ],
   "source": [
    "import pandas as pd\n",
    "import matplotlib.pyplot as plt\n",
    "import numpy as np\n",
    "\n",
    "data = pd.read_csv('iris.csv') \n",
    "data.shape"
   ]
  },
  {
   "cell_type": "markdown",
   "metadata": {},
   "source": [
    "Iris Data set has 150 rows and 6 columns."
   ]
  },
  {
   "cell_type": "markdown",
   "metadata": {},
   "source": [
    "`data.head(5)` allow mi to print first 5 rows of data set."
   ]
  },
  {
   "cell_type": "code",
   "execution_count": 2,
   "metadata": {},
   "outputs": [
    {
     "data": {
      "text/html": [
       "<div>\n",
       "<table border=\"1\" class=\"dataframe\">\n",
       "  <thead>\n",
       "    <tr style=\"text-align: right;\">\n",
       "      <th></th>\n",
       "      <th>Id</th>\n",
       "      <th>SepalLengthCm</th>\n",
       "      <th>SepalWidthCm</th>\n",
       "      <th>PetalLengthCm</th>\n",
       "      <th>PetalWidthCm</th>\n",
       "      <th>Species</th>\n",
       "    </tr>\n",
       "  </thead>\n",
       "  <tbody>\n",
       "    <tr>\n",
       "      <th>0</th>\n",
       "      <td>1</td>\n",
       "      <td>5.1</td>\n",
       "      <td>3.5</td>\n",
       "      <td>1.4</td>\n",
       "      <td>0.2</td>\n",
       "      <td>Iris-setosa</td>\n",
       "    </tr>\n",
       "    <tr>\n",
       "      <th>1</th>\n",
       "      <td>2</td>\n",
       "      <td>4.9</td>\n",
       "      <td>3.0</td>\n",
       "      <td>1.4</td>\n",
       "      <td>0.2</td>\n",
       "      <td>Iris-setosa</td>\n",
       "    </tr>\n",
       "    <tr>\n",
       "      <th>2</th>\n",
       "      <td>3</td>\n",
       "      <td>4.7</td>\n",
       "      <td>3.2</td>\n",
       "      <td>1.3</td>\n",
       "      <td>0.2</td>\n",
       "      <td>Iris-setosa</td>\n",
       "    </tr>\n",
       "    <tr>\n",
       "      <th>3</th>\n",
       "      <td>4</td>\n",
       "      <td>4.6</td>\n",
       "      <td>3.1</td>\n",
       "      <td>1.5</td>\n",
       "      <td>0.2</td>\n",
       "      <td>Iris-setosa</td>\n",
       "    </tr>\n",
       "    <tr>\n",
       "      <th>4</th>\n",
       "      <td>5</td>\n",
       "      <td>5.0</td>\n",
       "      <td>3.6</td>\n",
       "      <td>1.4</td>\n",
       "      <td>0.2</td>\n",
       "      <td>Iris-setosa</td>\n",
       "    </tr>\n",
       "  </tbody>\n",
       "</table>\n",
       "</div>"
      ],
      "text/plain": [
       "   Id  SepalLengthCm  SepalWidthCm  PetalLengthCm  PetalWidthCm      Species\n",
       "0   1            5.1           3.5            1.4           0.2  Iris-setosa\n",
       "1   2            4.9           3.0            1.4           0.2  Iris-setosa\n",
       "2   3            4.7           3.2            1.3           0.2  Iris-setosa\n",
       "3   4            4.6           3.1            1.5           0.2  Iris-setosa\n",
       "4   5            5.0           3.6            1.4           0.2  Iris-setosa"
      ]
     },
     "execution_count": 2,
     "metadata": {},
     "output_type": "execute_result"
    }
   ],
   "source": [
    "data.head(5)"
   ]
  },
  {
   "cell_type": "markdown",
   "metadata": {},
   "source": [
    "Our data set contains 6 columns: `ID`, `SepalLengthCm`, `SepalWidthCm`, `PetalLengthCm`, `PetalWidthCm` and `Species`. "
   ]
  },
  {
   "cell_type": "markdown",
   "metadata": {},
   "source": [
    "Firstly I explaine what Sepal and Petal Length are. \n",
    "<img width='400px' src='http://suruchifialoke.com/img/icon_iris.png'>\n",
    "\n",
    "Sepal is longer and Petal is shorther part of iris flower. All Sepal and Petal lengths are measured in cm.  "
   ]
  },
  {
   "cell_type": "code",
   "execution_count": 3,
   "metadata": {},
   "outputs": [
    {
     "data": {
      "text/html": [
       "<div>\n",
       "<table border=\"1\" class=\"dataframe\">\n",
       "  <thead>\n",
       "    <tr style=\"text-align: right;\">\n",
       "      <th></th>\n",
       "      <th>Id</th>\n",
       "      <th>SepalLengthCm</th>\n",
       "      <th>SepalWidthCm</th>\n",
       "      <th>PetalLengthCm</th>\n",
       "      <th>PetalWidthCm</th>\n",
       "      <th>Species</th>\n",
       "    </tr>\n",
       "  </thead>\n",
       "  <tbody>\n",
       "    <tr>\n",
       "      <th>145</th>\n",
       "      <td>146</td>\n",
       "      <td>6.7</td>\n",
       "      <td>3.0</td>\n",
       "      <td>5.2</td>\n",
       "      <td>2.3</td>\n",
       "      <td>Iris-virginica</td>\n",
       "    </tr>\n",
       "    <tr>\n",
       "      <th>146</th>\n",
       "      <td>147</td>\n",
       "      <td>6.3</td>\n",
       "      <td>2.5</td>\n",
       "      <td>5.0</td>\n",
       "      <td>1.9</td>\n",
       "      <td>Iris-virginica</td>\n",
       "    </tr>\n",
       "    <tr>\n",
       "      <th>147</th>\n",
       "      <td>148</td>\n",
       "      <td>6.5</td>\n",
       "      <td>3.0</td>\n",
       "      <td>5.2</td>\n",
       "      <td>2.0</td>\n",
       "      <td>Iris-virginica</td>\n",
       "    </tr>\n",
       "    <tr>\n",
       "      <th>148</th>\n",
       "      <td>149</td>\n",
       "      <td>6.2</td>\n",
       "      <td>3.4</td>\n",
       "      <td>5.4</td>\n",
       "      <td>2.3</td>\n",
       "      <td>Iris-virginica</td>\n",
       "    </tr>\n",
       "    <tr>\n",
       "      <th>149</th>\n",
       "      <td>150</td>\n",
       "      <td>5.9</td>\n",
       "      <td>3.0</td>\n",
       "      <td>5.1</td>\n",
       "      <td>1.8</td>\n",
       "      <td>Iris-virginica</td>\n",
       "    </tr>\n",
       "  </tbody>\n",
       "</table>\n",
       "</div>"
      ],
      "text/plain": [
       "      Id  SepalLengthCm  SepalWidthCm  PetalLengthCm  PetalWidthCm  \\\n",
       "145  146            6.7           3.0            5.2           2.3   \n",
       "146  147            6.3           2.5            5.0           1.9   \n",
       "147  148            6.5           3.0            5.2           2.0   \n",
       "148  149            6.2           3.4            5.4           2.3   \n",
       "149  150            5.9           3.0            5.1           1.8   \n",
       "\n",
       "            Species  \n",
       "145  Iris-virginica  \n",
       "146  Iris-virginica  \n",
       "147  Iris-virginica  \n",
       "148  Iris-virginica  \n",
       "149  Iris-virginica  "
      ]
     },
     "execution_count": 3,
     "metadata": {},
     "output_type": "execute_result"
    }
   ],
   "source": [
    "data.tail(5)"
   ]
  },
  {
   "cell_type": "markdown",
   "metadata": {},
   "source": [
    "`data.tail(5)` function gives me last 5 rows taken from data set. As we see there is 150 rows. `ID` column enumerate all rows. "
   ]
  },
  {
   "cell_type": "markdown",
   "metadata": {},
   "source": [
    "Interesting things noticed in `species` column. We started with `iris-setosa` and finished with `iris-virginica`. Lets check how many different species we have in data set. "
   ]
  },
  {
   "cell_type": "code",
   "execution_count": 4,
   "metadata": {},
   "outputs": [
    {
     "data": {
      "text/plain": [
       "Iris-virginica     50\n",
       "Iris-versicolor    50\n",
       "Iris-setosa        50\n",
       "Name: Species, dtype: int64"
      ]
     },
     "execution_count": 4,
     "metadata": {},
     "output_type": "execute_result"
    }
   ],
   "source": [
    "data['Species'].value_counts()"
   ]
  },
  {
   "cell_type": "markdown",
   "metadata": {},
   "source": [
    "By using `value_counts()` function on my data frame `data` I found 3 unique values in `Spacies` column:`Iris-setosa`, `Iris-virginica` and `Iris-versicolor` and each type occurs 50 times.    "
   ]
  },
  {
   "cell_type": "markdown",
   "metadata": {},
   "source": [
    "Is worth to check is any data missing in iris data set. To do that I use `isnull()` function from `pandas` library. Function returns boolean value `True` if `null` value exists and `False` if `not null` value founded. "
   ]
  },
  {
   "cell_type": "code",
   "execution_count": 5,
   "metadata": {},
   "outputs": [
    {
     "data": {
      "text/plain": [
       "Id               False\n",
       "SepalLengthCm    False\n",
       "SepalWidthCm     False\n",
       "PetalLengthCm    False\n",
       "PetalWidthCm     False\n",
       "Species          False\n",
       "dtype: bool"
      ]
     },
     "execution_count": 5,
     "metadata": {},
     "output_type": "execute_result"
    }
   ],
   "source": [
    "data.isnull().any()"
   ]
  },
  {
   "cell_type": "markdown",
   "metadata": {},
   "source": [
    "No missing data founded. <br>\n",
    "Let's examine data types of each column. To do that I used `dtypes` object from `pandas` library.   "
   ]
  },
  {
   "cell_type": "code",
   "execution_count": 6,
   "metadata": {},
   "outputs": [
    {
     "data": {
      "text/plain": [
       "Id                 int64\n",
       "SepalLengthCm    float64\n",
       "SepalWidthCm     float64\n",
       "PetalLengthCm    float64\n",
       "PetalWidthCm     float64\n",
       "Species           object\n",
       "dtype: object"
      ]
     },
     "execution_count": 6,
     "metadata": {},
     "output_type": "execute_result"
    }
   ],
   "source": [
    "data.dtypes"
   ]
  },
  {
   "cell_type": "markdown",
   "metadata": {},
   "source": [
    "Returned result shows that all data types are correct. In case, if we get multiple data types in single column `dtypes` return `object` data type. For columne `SepalLengthCm` we expecting to get `int` or `float` data type. Column `Species` contains `string`data type, in `pandas` it's called `object` data type.    "
   ]
  },
  {
   "cell_type": "markdown",
   "metadata": {},
   "source": [
    "Let's separate species. Firstly I have to retrive iris-setosa species from data set and save it in to separate data frame `dfSetosa`. `data[data['Species'] == 'Iris-setosa']` statement compare each row in column `Species` with `Iris-setosa` object. If the same, then row is added to `dfSetosa` data frame. Do the same for `Iris-virginica` and `Iris-versicolor`."
   ]
  },
  {
   "cell_type": "code",
   "execution_count": 7,
   "metadata": {},
   "outputs": [],
   "source": [
    "dfSetosa = data[data['Species'] == 'Iris-setosa']\n",
    "dfVirginica = data[data['Species'] == 'Iris-virginica']\n",
    "dfversicolor = data[data['Species'] == 'Iris-versicolor']"
   ]
  },
  {
   "cell_type": "markdown",
   "metadata": {},
   "source": [
    "### Iris-setosa Analyse"
   ]
  },
  {
   "cell_type": "markdown",
   "metadata": {},
   "source": [
    "Now let's take a closer look on Iris-setosa type.  "
   ]
  },
  {
   "cell_type": "code",
   "execution_count": 8,
   "metadata": {},
   "outputs": [
    {
     "data": {
      "text/plain": [
       "Iris-setosa    50\n",
       "Name: Species, dtype: int64"
      ]
     },
     "execution_count": 8,
     "metadata": {},
     "output_type": "execute_result"
    }
   ],
   "source": [
    "dfSetosa['Species'].value_counts()"
   ]
  },
  {
   "cell_type": "markdown",
   "metadata": {},
   "source": [
    "`dfSetosa['Species'].value_counts()` shows that new dataframe has 50 rows and contains only Iris-Setosa type. \n",
    "Now I calucate max, min, mean and standard deviation value for Sepal and Petal length and width."
   ]
  },
  {
   "cell_type": "code",
   "execution_count": 9,
   "metadata": {},
   "outputs": [
    {
     "data": {
      "text/html": [
       "<div>\n",
       "<table border=\"1\" class=\"dataframe\">\n",
       "  <thead>\n",
       "    <tr style=\"text-align: right;\">\n",
       "      <th></th>\n",
       "      <th>SepalLengthCm</th>\n",
       "      <th>SepalWidthCm</th>\n",
       "      <th>PetalLengthCm</th>\n",
       "      <th>PetalWidthCm</th>\n",
       "    </tr>\n",
       "  </thead>\n",
       "  <tbody>\n",
       "    <tr>\n",
       "      <th>count</th>\n",
       "      <td>50.00000</td>\n",
       "      <td>50.000000</td>\n",
       "      <td>50.000000</td>\n",
       "      <td>50.00000</td>\n",
       "    </tr>\n",
       "    <tr>\n",
       "      <th>mean</th>\n",
       "      <td>5.00600</td>\n",
       "      <td>3.418000</td>\n",
       "      <td>1.464000</td>\n",
       "      <td>0.24400</td>\n",
       "    </tr>\n",
       "    <tr>\n",
       "      <th>std</th>\n",
       "      <td>0.35249</td>\n",
       "      <td>0.381024</td>\n",
       "      <td>0.173511</td>\n",
       "      <td>0.10721</td>\n",
       "    </tr>\n",
       "    <tr>\n",
       "      <th>min</th>\n",
       "      <td>4.30000</td>\n",
       "      <td>2.300000</td>\n",
       "      <td>1.000000</td>\n",
       "      <td>0.10000</td>\n",
       "    </tr>\n",
       "    <tr>\n",
       "      <th>25%</th>\n",
       "      <td>4.80000</td>\n",
       "      <td>3.125000</td>\n",
       "      <td>1.400000</td>\n",
       "      <td>0.20000</td>\n",
       "    </tr>\n",
       "    <tr>\n",
       "      <th>50%</th>\n",
       "      <td>5.00000</td>\n",
       "      <td>3.400000</td>\n",
       "      <td>1.500000</td>\n",
       "      <td>0.20000</td>\n",
       "    </tr>\n",
       "    <tr>\n",
       "      <th>75%</th>\n",
       "      <td>5.20000</td>\n",
       "      <td>3.675000</td>\n",
       "      <td>1.575000</td>\n",
       "      <td>0.30000</td>\n",
       "    </tr>\n",
       "    <tr>\n",
       "      <th>max</th>\n",
       "      <td>5.80000</td>\n",
       "      <td>4.400000</td>\n",
       "      <td>1.900000</td>\n",
       "      <td>0.60000</td>\n",
       "    </tr>\n",
       "  </tbody>\n",
       "</table>\n",
       "</div>"
      ],
      "text/plain": [
       "       SepalLengthCm  SepalWidthCm  PetalLengthCm  PetalWidthCm\n",
       "count       50.00000     50.000000      50.000000      50.00000\n",
       "mean         5.00600      3.418000       1.464000       0.24400\n",
       "std          0.35249      0.381024       0.173511       0.10721\n",
       "min          4.30000      2.300000       1.000000       0.10000\n",
       "25%          4.80000      3.125000       1.400000       0.20000\n",
       "50%          5.00000      3.400000       1.500000       0.20000\n",
       "75%          5.20000      3.675000       1.575000       0.30000\n",
       "max          5.80000      4.400000       1.900000       0.60000"
      ]
     },
     "execution_count": 9,
     "metadata": {},
     "output_type": "execute_result"
    }
   ],
   "source": [
    "dfSetosa = dfSetosa.drop(['Id'], axis = 1)\n",
    "dfSetosa.describe()"
   ]
  },
  {
   "cell_type": "markdown",
   "metadata": {},
   "source": [
    "For better view i decided to drop `Id` column by using `DataFrame.drop()` function.<br>\n",
    "I got values formated in Table and as we can see from `mean`that Sepal is longer and wider than Petal for Iris Setosa Flower type.    "
   ]
  },
  {
   "cell_type": "code",
   "execution_count": 10,
   "metadata": {},
   "outputs": [],
   "source": [
    "#from dataframe dfSetosa i take all values from 'SepalLenthCm' column and assign them to setosaSepalL variable. \n",
    "#setosaSepalL = dfSetosa['SepalLengthCm']  \n",
    "# unique() function from NumPy library returns only unique values from variable setosaSepalL\n",
    "# I will need them unique values to label x axis.      \n",
    "#xLabel = np.unique(setosaSepalL) \n",
    "# center bins with ticks \n",
    "#bins = np.arange(4.25,6,0.1)\n",
    "# set chart size in inches\n",
    "#plt.figure(figsize=(7,5)) \n",
    "#set data, bins, width of bin and color,\n",
    "#variable s_counts holds counts of unique length \n",
    "#s_counts, s_bins, bars = plt.hist(setosaSepalL, bins, rwidth=0.9, color='lightblue')  \n",
    "#plt.xticks(xLabel) # label of x axis\n",
    "#plt.tight_layout() # fit to chart frame \n",
    "#plt.title('Sepal Frequency Chart') # chart title\n",
    "#plt.xlabel('Sepal Length in cm') # x Label\n",
    "#plt.ylabel('Counts') # y label\n",
    "#plt.xlim(4.2,5.9) # start point and end point of x and y axis \n",
    "#plt.ylim(0,9)"
   ]
  },
  {
   "cell_type": "code",
   "execution_count": 32,
   "metadata": {
    "scrolled": true
   },
   "outputs": [
    {
     "data": {
      "text/plain": [
       "<matplotlib.figure.Figure at 0x7fe2669264a8>"
      ]
     },
     "metadata": {},
     "output_type": "display_data"
    },
    {
     "data": {
      "image/png":       "text/plain": [
       "<matplotlib.figure.Figure at 0x7fe266926438>"
      ]
     },
     "metadata": {},
     "output_type": "display_data"
    }
   ],
   "source": [
    "# to plot i used pandas library \n",
    "plt.figure()\n",
    "\n",
    "# Create a figure and a set of subplots with 2 columns and 2 rows.\n",
    "fig, ax = plt.subplots(2,2, figsize=(17, 14))\n",
    "\n",
    "# ax - tell us where is plot, bins to find out, rwidth - bin width, \n",
    "dfSetosa['SepalLengthCm'].plot(\n",
    "    kind='hist', # what kind of plot: linear, histogram, pie, scatter etc. \n",
    "    bins=np.arange(4.25,5.9,0.1), # set bin edges, \n",
    "    rwidth=0.9, # width of bin\n",
    "    ax=ax[0][0], # shows where to plot   \n",
    "    xticks=pd.unique(dfSetosa['SepalLengthCm']), # set ticks on x axis, as unique values from SepalLengthCm column \n",
    "    color='lightblue', # color of histogram\n",
    "    grid=True, # set grid as True\n",
    "    yticks=np.arange(0,10,1), # set ticks on y axis in range from 0 to 10 with step 1\n",
    "    fontsize=12) # set font size for ticks on x and y axis\n",
    "\n",
    "dfSetosa['SepalWidthCm'].plot(\n",
    "    kind='hist', \n",
    "    bins=np.arange(2.25,4.5,0.1), \n",
    "    rwidth=0.9, \n",
    "    ax=ax[0][1],\n",
    "    xticks=pd.unique(dfSetosa['SepalWidthCm']),\n",
    "    color='orange',\n",
    "    grid=True,\n",
    "    yticks=np.arange(0,10,1),\n",
    "    fontsize=12)\n",
    "\n",
    "\n",
    "dfSetosa['PetalLengthCm'].plot(\n",
    "    kind='hist', \n",
    "    bins=np.arange(0.95,2.0,0.1), \n",
    "    rwidth=0.9, \n",
    "    ax=ax[1][0], \n",
    "    xticks=pd.unique(dfSetosa['PetalLengthCm']),\n",
    "    color='lightgreen',\n",
    "    grid=True,\n",
    "    yticks=np.arange(0,15,1),\n",
    "    fontsize=12)\n",
    "\n",
    "dfSetosa['PetalWidthCm'].plot(\n",
    "    kind='hist', \n",
    "    bins=np.arange(-0.25,0.7,0.1), \n",
    "    rwidth=0.9, \n",
    "    ax=ax[1][1],\n",
    "    xticks=pd.unique(dfSetosa['PetalWidthCm']), \n",
    "    color='red',\n",
    "    grid=(True),\n",
    "    yticks=np.arange(0,30,1),\n",
    "    fontsize=12)\n",
    "    \n",
    "ax[0][0].set(title='Frequency Chart - Iris Setosa', xlabel = 'Sepal Length in cm' )\n",
    "ax[0][1].set(title='Frequency Chart - Iris Setosa', xlabel = 'Sepal Width in cm')\n",
    "ax[1][0].set(title='Frequency Chart - Iris Setosa', xlabel = 'Petal Length in cm')\n",
    "ax[1][1].set(title='Frequency Chart - Iris Setosa', xlabel = 'Petal Width in cm' )\n",
    "\n",
    "ax[0][0].grid(color='lightgrey', linestyle='--', linewidth=0.6)\n",
    "ax[0][1].grid(color='lightgrey', linestyle='--', linewidth=0.6)\n",
    "ax[1][0].grid(color='lightgrey', linestyle='--', linewidth=0.6)\n",
    "ax[1][1].grid(color='lightgrey', linestyle='--', linewidth=0.6)\n",
    "\n",
    "plt.tight_layout()\n",
    "plt.show()"
   ]
  },
  {
   "cell_type": "markdown",
   "metadata": {},
   "source": [
    "Frequency Chart displays, how Sepal length values appear within data set. `5.0` and `5.1` are most common lengths. Lets check what percentage distribution, \n",
    "To calcucate percentage i use `crosstab()`function from `Pandas` libreary. "
   ]
  },
  {
   "cell_type": "code",
   "execution_count": 12,
   "metadata": {},
   "outputs": [
    {
     "data": {
      "text/html": [
       "<div>\n",
       "<table border=\"1\" class=\"dataframe\">\n",
       "  <thead>\n",
       "    <tr style=\"text-align: right;\">\n",
       "      <th>SepalLengthCm</th>\n",
       "      <th>4.3</th>\n",
       "      <th>4.4</th>\n",
       "      <th>4.5</th>\n",
       "      <th>4.6</th>\n",
       "      <th>4.7</th>\n",
       "      <th>4.8</th>\n",
       "      <th>4.9</th>\n",
       "      <th>5.0</th>\n",
       "      <th>5.1</th>\n",
       "      <th>5.2</th>\n",
       "      <th>5.3</th>\n",
       "      <th>5.4</th>\n",
       "      <th>5.5</th>\n",
       "      <th>5.7</th>\n",
       "      <th>5.8</th>\n",
       "    </tr>\n",
       "    <tr>\n",
       "      <th>col_0</th>\n",
       "      <th></th>\n",
       "      <th></th>\n",
       "      <th></th>\n",
       "      <th></th>\n",
       "      <th></th>\n",
       "      <th></th>\n",
       "      <th></th>\n",
       "      <th></th>\n",
       "      <th></th>\n",
       "      <th></th>\n",
       "      <th></th>\n",
       "      <th></th>\n",
       "      <th></th>\n",
       "      <th></th>\n",
       "      <th></th>\n",
       "    </tr>\n",
       "  </thead>\n",
       "  <tbody>\n",
       "    <tr>\n",
       "      <th>count</th>\n",
       "      <td>1.0</td>\n",
       "      <td>3.0</td>\n",
       "      <td>1.0</td>\n",
       "      <td>4.0</td>\n",
       "      <td>2.0</td>\n",
       "      <td>5.0</td>\n",
       "      <td>4.0</td>\n",
       "      <td>8.0</td>\n",
       "      <td>8.0</td>\n",
       "      <td>3.0</td>\n",
       "      <td>1.0</td>\n",
       "      <td>5.0</td>\n",
       "      <td>2.0</td>\n",
       "      <td>2.0</td>\n",
       "      <td>1.0</td>\n",
       "    </tr>\n",
       "    <tr>\n",
       "      <th>Percent [%]</th>\n",
       "      <td>2.0</td>\n",
       "      <td>6.0</td>\n",
       "      <td>2.0</td>\n",
       "      <td>8.0</td>\n",
       "      <td>4.0</td>\n",
       "      <td>10.0</td>\n",
       "      <td>8.0</td>\n",
       "      <td>16.0</td>\n",
       "      <td>16.0</td>\n",
       "      <td>6.0</td>\n",
       "      <td>2.0</td>\n",
       "      <td>10.0</td>\n",
       "      <td>4.0</td>\n",
       "      <td>4.0</td>\n",
       "      <td>2.0</td>\n",
       "    </tr>\n",
       "  </tbody>\n",
       "</table>\n",
       "</div>"
      ],
      "text/plain": [
       "SepalLengthCm  4.3  4.4  4.5  4.6  4.7   4.8  4.9   5.0   5.1  5.2  5.3   5.4  \\\n",
       "col_0                                                                           \n",
       "count          1.0  3.0  1.0  4.0  2.0   5.0  4.0   8.0   8.0  3.0  1.0   5.0   \n",
       "Percent [%]    2.0  6.0  2.0  8.0  4.0  10.0  8.0  16.0  16.0  6.0  2.0  10.0   \n",
       "\n",
       "SepalLengthCm  5.5  5.7  5.8  \n",
       "col_0                         \n",
       "count          2.0  2.0  1.0  \n",
       "Percent [%]    4.0  4.0  2.0  "
      ]
     },
     "execution_count": 12,
     "metadata": {},
     "output_type": "execute_result"
    }
   ],
   "source": [
    "# comments to add\n",
    "crossTable = pd.crosstab(index=dfSetosa['SepalLengthCm'], columns = 'count', )\n",
    "\n",
    "# s_counts holds number of all ++++ in table. We \n",
    "#s_counts=np.sum(s_counts)\n",
    "sepalLengthNo, sepalWidthNo,petalLengthNo, petalWidthNo, speciesNo = dfSetosa.count()\n",
    "\n",
    "#For better wiev I transpose table \n",
    "crossTable = crossTable.T\n",
    "\n",
    "# statement below add new row 'Percent' with calculated field \n",
    "crossTable.loc['Percent [%]'] = (crossTable.loc['count']/sepalLengthNo)*100\n",
    "crossTable"
   ]
  },
  {
   "cell_type": "markdown",
   "metadata": {},
   "source": [
    "Cross Table shows that `32%` of Iris Setosa Sepal Lengths is `5.1` and `5.2` length. "
   ]
  },
  {
   "cell_type": "code",
   "execution_count": null,
   "metadata": {},
   "outputs": [],
   "source": []
  }
 ],
 "metadata": {
  "kernelspec": {
   "display_name": "Python 3",
   "language": "python",
   "name": "python3"
  },
  "language_info": {
   "codemirror_mode": {
    "name": "ipython",
    "version": 3
   },
   "file_extension": ".py",
   "mimetype": "text/x-python",
   "name": "python",
   "nbconvert_exporter": "python",
   "pygments_lexer": "ipython3",
   "version": "3.7.1"
  }
 },
 "nbformat": 4,
 "nbformat_minor": 2
}
